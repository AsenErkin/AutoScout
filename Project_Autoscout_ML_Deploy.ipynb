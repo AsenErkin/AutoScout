{
 "cells": [
  {
   "cell_type": "markdown",
   "id": "1a803595-0ef2-40b8-8105-fdda4b904c68",
   "metadata": {},
   "source": [
    "# Car Price Prediction - ML Deployment Project"
   ]
  },
  {
   "cell_type": "markdown",
   "id": "af1808ea-f151-4d06-b50a-282bb3d9cafd",
   "metadata": {},
   "source": [
    "This project aims to develop a machine learninng model to predict the car prices. The data have been scrapped from autoscout website in 2022. Project steps are:\n",
    "\n",
    "1) EDA and feature engineering\n",
    "2) Machine learning algorithms\n",
    "    - Multiple linear regression\n",
    "    - Lasso regression\n",
    "    - Random forest\n",
    "    - XG-Boost\n",
    "3) Final model determination and pickling the model\n",
    "4) By using streamlit, creating a website to enable user to predict car prices\n",
    "5) Deployment of the model via Streamlit and AWS EC2 \n",
    "    "
   ]
  },
  {
   "cell_type": "code",
   "execution_count": null,
   "id": "7d43c5c5-5b70-4e47-8290-b4a062ee56e8",
   "metadata": {},
   "outputs": [],
   "source": [
    "import pandas as pd      \n",
    "import numpy as np \n",
    "import matplotlib.pyplot as plt\n",
    "import seaborn as sns\n",
    "from sklearn.preprocessing import StandardScaler, MinMaxScaler, RobustScaler\n",
    "from sklearn.metrics import mean_squared_error, mean_absolute_error, r2_score\n",
    "from sklearn.model_selection import train_test_split\n",
    "\n",
    "from scipy.stats import skew\n",
    "\n",
    "from sklearn.model_selection import cross_validate\n",
    "import warnings\n",
    "warnings.filterwarnings('ignore')\n",
    "plt.rcParams[\"figure.figsize\"] = (7,4)\n",
    "pd.set_option('display.max_columns', 500)\n",
    "pd.set_option('display.max_rows', 1000)\n",
    "pd.options.display.float_format = '{:.3f}'.format"
   ]
  },
  {
   "cell_type": "code",
   "execution_count": null,
   "id": "2a9e7bcc-f9ad-472c-a0d9-e9aff4b09549",
   "metadata": {
    "tags": []
   },
   "outputs": [],
   "source": [
    "df0 = pd.read_csv(\"final_scout_not_dummy.csv\")\n",
    "df = df0.copy()\n",
    "df.shape"
   ]
  },
  {
   "cell_type": "code",
   "execution_count": null,
   "id": "126bb50f-a424-43af-96e2-90b3b26badb5",
   "metadata": {},
   "outputs": [],
   "source": [
    "df0.shape"
   ]
  },
  {
   "cell_type": "code",
   "execution_count": null,
   "id": "c1f78b8e-08dd-4424-973a-8d6edaf19bfb",
   "metadata": {},
   "outputs": [],
   "source": [
    "df = df0.copy()"
   ]
  },
  {
   "cell_type": "markdown",
   "id": "efe832c7-2e73-48b6-aa06-04b303809dd6",
   "metadata": {},
   "source": [
    "# 1. EDA and Feature Engineering"
   ]
  },
  {
   "cell_type": "code",
   "execution_count": null,
   "id": "dbf30190-488e-4e3d-bb56-46e1d36bfe94",
   "metadata": {},
   "outputs": [],
   "source": [
    "df.info()"
   ]
  },
  {
   "cell_type": "code",
   "execution_count": null,
   "id": "6e74eccd-292d-49ce-940e-60492d4dc077",
   "metadata": {},
   "outputs": [],
   "source": [
    "df.head(2)"
   ]
  },
  {
   "cell_type": "code",
   "execution_count": null,
   "id": "a7fe53db-cbb8-495e-87b6-cb349d46aa6d",
   "metadata": {},
   "outputs": [],
   "source": [
    "# check and drop duplicates\n",
    "df.duplicated().sum()"
   ]
  },
  {
   "cell_type": "code",
   "execution_count": null,
   "id": "41d7d063-d5c5-42fc-8ad7-e5a49cb58ab1",
   "metadata": {},
   "outputs": [],
   "source": [
    "# drop duplicates\n",
    "df.drop_duplicates(inplace=True)"
   ]
  },
  {
   "cell_type": "code",
   "execution_count": null,
   "id": "d8253e0e-9980-4261-9381-8d669995f113",
   "metadata": {},
   "outputs": [],
   "source": [
    "# check the shape\n",
    "df.shape"
   ]
  },
  {
   "cell_type": "code",
   "execution_count": null,
   "id": "8876a34d-e466-497c-aab1-65e60bd99251",
   "metadata": {},
   "outputs": [],
   "source": [
    "# check null values\n",
    "df.isnull().sum()\n",
    "# no null values"
   ]
  },
  {
   "cell_type": "markdown",
   "id": "845d01c4-3d37-4155-8949-c3c445c752b0",
   "metadata": {},
   "source": [
    "# 1.1 Categorical Variables"
   ]
  },
  {
   "cell_type": "code",
   "execution_count": null,
   "id": "08066ec9-9696-4344-8281-45a2b03c4fd5",
   "metadata": {},
   "outputs": [],
   "source": [
    "df_object = df.select_dtypes(include=\"object\")\n",
    "df_object.columns"
   ]
  },
  {
   "cell_type": "code",
   "execution_count": null,
   "id": "7a44050d-b5cf-43e9-9577-0eac2529b979",
   "metadata": {},
   "outputs": [],
   "source": [
    "# check the value counts for each feature to determine the features with high cardinality\n",
    "for col in df_object:\n",
    "    print(f\"{col:<30}:\", df[col].nunique())\n",
    "\n",
    "# comfort&con, entertainemtn&media, extras and safety_sec should be dealt with."
   ]
  },
  {
   "cell_type": "markdown",
   "id": "73402d87-3e86-4a87-b54f-2381f9588cb4",
   "metadata": {},
   "source": [
    "## 1.1.1 make_model feature"
   ]
  },
  {
   "cell_type": "code",
   "execution_count": null,
   "id": "1bdc61e7-e262-48d9-857d-c89196cee173",
   "metadata": {},
   "outputs": [],
   "source": [
    "df.make_model.value_counts()"
   ]
  },
  {
   "cell_type": "code",
   "execution_count": null,
   "id": "85d989f6-de8e-4773-a905-b698b51bcc02",
   "metadata": {
    "scrolled": true,
    "tags": []
   },
   "outputs": [],
   "source": [
    "# get the index of the make_models which have less than 100 samples, since the mdoel can't learn efficiently\n",
    "ind = df[(df.make_model == \"Renault Duster\") | (df.make_model == \"Audi A2\")].index\n",
    "ind"
   ]
  },
  {
   "cell_type": "code",
   "execution_count": null,
   "id": "6dd89ed4-0fae-4a33-9f0e-f7ba734206e5",
   "metadata": {
    "jupyter": {
     "source_hidden": true
    },
    "tags": []
   },
   "outputs": [],
   "source": [
    "# check shape before dropping\n",
    "df.shape"
   ]
  },
  {
   "cell_type": "code",
   "execution_count": null,
   "id": "874344f5-760c-4ec4-b595-d51dd7623517",
   "metadata": {},
   "outputs": [],
   "source": [
    "# drop them\n",
    "df.drop(index=ind, inplace=True)"
   ]
  },
  {
   "cell_type": "code",
   "execution_count": null,
   "id": "d68202c6-6f3e-4241-a6e1-975522139b40",
   "metadata": {},
   "outputs": [],
   "source": [
    "# check updated shape\n",
    "df.shape"
   ]
  },
  {
   "cell_type": "code",
   "execution_count": null,
   "id": "44649d97-c5b2-4380-95c6-dc2478583aa8",
   "metadata": {},
   "outputs": [],
   "source": [
    "# visualize the number of samples for each make_model\n",
    "ax = sns.countplot(data=df, x= \"make_model\");\n",
    "\n",
    "ax.bar_label(ax.containers[0]);"
   ]
  },
  {
   "cell_type": "markdown",
   "id": "af1713be-71cf-42d2-803f-2d11ebb9b5ce",
   "metadata": {},
   "source": [
    "## 1.1.2 body_type"
   ]
  },
  {
   "cell_type": "code",
   "execution_count": null,
   "id": "0fe15730-b137-42b1-b4f5-3c3c84e286e8",
   "metadata": {},
   "outputs": [],
   "source": [
    "df.body_type.value_counts()"
   ]
  },
  {
   "cell_type": "markdown",
   "id": "d1298a5d-9e16-40f6-8d4f-93b2bf21538e",
   "metadata": {},
   "source": [
    "## 1.1.3 vat"
   ]
  },
  {
   "cell_type": "code",
   "execution_count": null,
   "id": "870b084f-37a9-4fe3-b4fd-5ffac779235d",
   "metadata": {},
   "outputs": [],
   "source": [
    "df.vat.value_counts()"
   ]
  },
  {
   "cell_type": "markdown",
   "id": "99039732-968c-4691-ad9b-832183f78d1b",
   "metadata": {},
   "source": [
    "## 1.1.4 Type "
   ]
  },
  {
   "cell_type": "code",
   "execution_count": null,
   "id": "0ebf2040-1661-4fa4-88bf-5a72dc9a2a86",
   "metadata": {},
   "outputs": [],
   "source": [
    "df.Type.value_counts()"
   ]
  },
  {
   "cell_type": "markdown",
   "id": "88374b4c-709f-4b79-bd3e-9fe992421e92",
   "metadata": {},
   "source": [
    "## 1.1.5 Fuel"
   ]
  },
  {
   "cell_type": "code",
   "execution_count": null,
   "id": "11aa48f3-2f97-4cd5-81c2-10d1f9e5cfc2",
   "metadata": {},
   "outputs": [],
   "source": [
    "df.Fuel.value_counts()"
   ]
  },
  {
   "cell_type": "code",
   "execution_count": null,
   "id": "589bb7cc-25c1-44af-b247-8168979dee8b",
   "metadata": {},
   "outputs": [],
   "source": [
    "df.groupby(\"Fuel\")[\"price\"].mean()"
   ]
  },
  {
   "cell_type": "code",
   "execution_count": null,
   "id": "655b45a0-d636-4c37-85af-88e5dc8f4918",
   "metadata": {},
   "outputs": [],
   "source": [
    "ind_fuel = df[(df.Fuel == \"LPG/CNG\") | (df.Fuel == \"Electric\")].index\n",
    "    "
   ]
  },
  {
   "cell_type": "code",
   "execution_count": null,
   "id": "1160667c-1616-4dfa-9e8d-94fbf457caa2",
   "metadata": {},
   "outputs": [],
   "source": [
    "df.drop(index= ind_fuel, inplace=True)"
   ]
  },
  {
   "cell_type": "code",
   "execution_count": null,
   "id": "352e6010-a0c8-4192-aef1-ddf79caf3946",
   "metadata": {},
   "outputs": [],
   "source": [
    "df.Fuel.value_counts()"
   ]
  },
  {
   "cell_type": "markdown",
   "id": "da2f0504-2d72-4ed8-b4c2-350311f59441",
   "metadata": {},
   "source": [
    "## 1.1.6 Comfort_Convenience\n"
   ]
  },
  {
   "cell_type": "code",
   "execution_count": null,
   "id": "3fa704f3-4b1f-4870-a398-95b298bd3bf1",
   "metadata": {},
   "outputs": [],
   "source": [
    "df.Comfort_Convenience.nunique()"
   ]
  },
  {
   "cell_type": "code",
   "execution_count": null,
   "id": "c57e229e-3008-46bb-894a-bfc9b65a7802",
   "metadata": {},
   "outputs": [],
   "source": [
    "premium = [\"Electrical side mirrors\", \"Parking assist\", \"Air conditioning\", \"Hill Holder\", \"Power windows\"]\n",
    "premium_plus = [\"Multi-function\", \"Navigation \", \"Keyless central door lock\", \"Heads-up\", \"Massage seats\", \"heating\", \"Automatic climate control\", \"Heated\"]\n",
    "\n",
    "comfort_package = df['Comfort_Convenience'].apply(lambda sentence: \"Premium Plus\" if all(word in sentence for word in premium_plus) else (\"Premium\" if all(word in sentence for word in premium) else \"Standard\"))\n",
    "comfort_package.value_counts()\n",
    "\n",
    "# since there are only 63 cars in the category of premium plus, they will be also labelled as premiumn"
   ]
  },
  {
   "cell_type": "code",
   "execution_count": null,
   "id": "b1379f83-7a7c-45f7-aaca-179c5ae82fbc",
   "metadata": {},
   "outputs": [],
   "source": [
    "comfort_package.shape"
   ]
  },
  {
   "cell_type": "code",
   "execution_count": null,
   "id": "4cdee3fd-35b3-4419-8fab-1029c69a5be9",
   "metadata": {},
   "outputs": [],
   "source": [
    "df['Comfort_Convenience'] = comfort_package\n",
    "df['Comfort_Convenience'].value_counts()"
   ]
  },
  {
   "cell_type": "code",
   "execution_count": null,
   "id": "1ce71e1e-fc67-44ae-8b64-41080c7022b5",
   "metadata": {},
   "outputs": [],
   "source": [
    "df['Comfort_Convenience'] = df['Comfort_Convenience'].replace(\"Premium Plus\", \"Premium\")\n",
    "df['Comfort_Convenience'].value_counts()"
   ]
  },
  {
   "cell_type": "markdown",
   "id": "51719c3c-5837-4a67-a447-807b914ce556",
   "metadata": {},
   "source": [
    "## 1.1.7 Entertainment_Media"
   ]
  },
  {
   "cell_type": "code",
   "execution_count": null,
   "id": "337f8155-7046-4fe4-92ec-e6c258c4710e",
   "metadata": {},
   "outputs": [],
   "source": [
    "# if an auto contains digital or television in the entertainment feature, then they can be labelled\n",
    "# as plus while the cars without these features can be labelled as standard\n",
    "media_plus = [\"Digital\", \"Television\"]\n",
    "\n",
    "\n",
    "entertainment = df['Entertainment_Media'].apply(lambda sentence: \"Plus\" if any(word in sentence for word in media_plus) else \"Standard\")\n",
    "entertainment.value_counts()"
   ]
  },
  {
   "cell_type": "code",
   "execution_count": null,
   "id": "a892f08a-98ef-42bf-9e99-1587942b62f1",
   "metadata": {},
   "outputs": [],
   "source": [
    "df['Entertainment_Media'] = entertainment\n",
    "df['Entertainment_Media'].value_counts()"
   ]
  },
  {
   "cell_type": "markdown",
   "id": "6f473a61-7e13-4184-b4b2-35414c9df7ef",
   "metadata": {},
   "source": [
    "## 1.1.8 Extras"
   ]
  },
  {
   "cell_type": "code",
   "execution_count": null,
   "id": "e420f2ed-6d38-4c2d-bfc5-763eb77b9a4c",
   "metadata": {},
   "outputs": [],
   "source": [
    "# count the number of extras for each observation\n",
    "df.Extras.apply(lambda x: len(x.split(',')))"
   ]
  },
  {
   "cell_type": "code",
   "execution_count": null,
   "id": "297cc894-06d5-41f8-9108-77cb966ef318",
   "metadata": {},
   "outputs": [],
   "source": [
    "# convert the feature from object to numeric by taking the number of features into account\n",
    "df[\"Extras\"] = df.Extras.apply(lambda x: len(x.split(',')))\n",
    "df[\"Extras\"].value_counts()"
   ]
  },
  {
   "cell_type": "code",
   "execution_count": null,
   "id": "f4af766b-af23-4620-9e67-b40f6e5c38de",
   "metadata": {},
   "outputs": [],
   "source": []
  },
  {
   "cell_type": "markdown",
   "id": "37cef591-8733-4738-b1db-0a1cff444d8e",
   "metadata": {},
   "source": [
    "## 1.1.9 Safety_Security"
   ]
  },
  {
   "cell_type": "code",
   "execution_count": null,
   "id": "2f432e7a-a298-4abf-b1d7-912345e3d3f3",
   "metadata": {},
   "outputs": [],
   "source": [
    "premium = [\"Tire pressure\", \"Traction control\", \"Daytime running lights\", \"LED Headlight\", \"Tire pressure\"]\n",
    "premium_plus = [\"Emergency brake assistant\", \"Electronic stability control\"]\n",
    "\n",
    "safety = df['Safety_Security'].apply(lambda sentence: \"Safety Premium Package\" if any(word in sentence for word in premium) else (\"Safety Premium Plus Package\" if any(word in sentence for word in premium_plus) else \"Safety Standard Package\"))\n",
    "safety.value_counts()"
   ]
  },
  {
   "cell_type": "code",
   "execution_count": null,
   "id": "ebc74b5e-18ad-498f-b168-c37fc7600fe0",
   "metadata": {},
   "outputs": [],
   "source": [
    "df['Safety_Security'] = safety\n",
    "df['Safety_Security'].value_counts()"
   ]
  },
  {
   "cell_type": "markdown",
   "id": "61eccf31-af16-42c1-9112-0bfd79be8fa9",
   "metadata": {},
   "source": [
    "## 1.1.10 Paint_Type"
   ]
  },
  {
   "cell_type": "code",
   "execution_count": null,
   "id": "6d74f335-785a-4e69-a20a-56dddd0751de",
   "metadata": {},
   "outputs": [],
   "source": [
    "df.Paint_Type.value_counts()"
   ]
  },
  {
   "cell_type": "code",
   "execution_count": null,
   "id": "6e08b30d-dc11-4f99-9d6a-c3d5addbd651",
   "metadata": {},
   "outputs": [],
   "source": [
    "df[df.Paint_Type == \"Perl effect\"].index"
   ]
  },
  {
   "cell_type": "code",
   "execution_count": null,
   "id": "6ac56fc8-2b7b-4cc5-a06f-03f9fec29ed4",
   "metadata": {},
   "outputs": [],
   "source": [
    "df.drop(index = df[df.Paint_Type == \"Perl effect\"].index, inplace=True)"
   ]
  },
  {
   "cell_type": "code",
   "execution_count": null,
   "id": "c6027264-aef9-4bce-9d76-ffad2637124c",
   "metadata": {},
   "outputs": [],
   "source": [
    "df.Paint_Type.value_counts()"
   ]
  },
  {
   "cell_type": "markdown",
   "id": "83ed9c27-bab7-4694-bc6e-ba6bfd6de518",
   "metadata": {},
   "source": [
    "## 1.1.11 Upholstery_type"
   ]
  },
  {
   "cell_type": "code",
   "execution_count": null,
   "id": "1606f61a-04aa-4510-a516-c1742c35cf31",
   "metadata": {},
   "outputs": [],
   "source": [
    "df.Upholstery_type.value_counts()"
   ]
  },
  {
   "cell_type": "markdown",
   "id": "a8a7f036-c011-495d-b1f9-4bbee5e6014c",
   "metadata": {},
   "source": [
    "## 1.1.12 Gearing_Type"
   ]
  },
  {
   "cell_type": "code",
   "execution_count": null,
   "id": "e644cbe4-539d-40d9-9cb8-844d7a9058a2",
   "metadata": {},
   "outputs": [],
   "source": [
    "df.Gearing_Type.value_counts()"
   ]
  },
  {
   "cell_type": "markdown",
   "id": "a462b7e7-9806-4521-bfbd-8e0d6475ff45",
   "metadata": {},
   "source": [
    "## 1.1.13 Drive_chain"
   ]
  },
  {
   "cell_type": "code",
   "execution_count": null,
   "id": "721ef7ce-7742-4c8c-96cc-235aaf490aa0",
   "metadata": {},
   "outputs": [],
   "source": [
    "df.Drive_chain.value_counts()"
   ]
  },
  {
   "cell_type": "code",
   "execution_count": null,
   "id": "9c6ebaf2-2c09-4c58-809c-957d0ce28a3b",
   "metadata": {},
   "outputs": [],
   "source": [
    "# we will drop this feature since the categories are distributed too imbalanced\n",
    "df.drop(\"Drive_chain\", axis=1, inplace=True)"
   ]
  },
  {
   "cell_type": "markdown",
   "id": "100d9477-f8e1-4445-aca2-e1533a51e130",
   "metadata": {},
   "source": [
    "# 1.2. Numerical Features"
   ]
  },
  {
   "cell_type": "code",
   "execution_count": null,
   "id": "f998f5ad-108c-4e79-bf92-57b7974482d2",
   "metadata": {},
   "outputs": [],
   "source": [
    "df.select_dtypes(include=\"number\").columns"
   ]
  },
  {
   "cell_type": "code",
   "execution_count": null,
   "id": "133e21be-7818-4ef0-8804-1a37370be8cc",
   "metadata": {},
   "outputs": [],
   "source": [
    "df.describe().T"
   ]
  },
  {
   "cell_type": "code",
   "execution_count": null,
   "id": "c0f5cfd1-1f60-4f7d-8789-c6579f5958cc",
   "metadata": {},
   "outputs": [],
   "source": [
    "def show_distribution(col):\n",
    "    \n",
    "    '''\n",
    "    \n",
    "    This function will prints a Histogram and box plot which are graphical representations \n",
    "    for the frequency of numeric data values. It aims to describe the data and explore \n",
    "    the central tendency and variability before using advanced statistical analysis techniques. \n",
    "    \n",
    "    '''\n",
    "    # Get statistics\n",
    "    from termcolor import colored\n",
    "\n",
    "    print(colored('Statistical Calculations :', 'red', attrs=['bold']))\n",
    "    print(colored('-'*26, 'red', attrs=['bold']))    \n",
    "    min_val = col.min()\n",
    "    max_val = col.max()\n",
    "    mean_val = col.mean()\n",
    "    med_val = col.median()\n",
    "    mod_val = col.mode()[0]\n",
    "\n",
    "    print(colored('Minimum:{:>7.2f}\\nMean:{:>10.2f}\\nMedian:{:>8.2f}\\nMode:{:>10.2f}\\nMaximum:{:>7.2f}\\n'.format(min_val,\n",
    "                                                                                             mean_val,\n",
    "                                                                                             med_val,\n",
    "                                                                                             mod_val,\n",
    "                                                                                             max_val), 'blue', attrs=['bold']))\n",
    "    \n",
    "    # Create a figure for 2 subplots (2 rows, 1 column)\n",
    "    fig, ax = plt.subplots(2, 1, figsize=(15, 15))\n",
    "\n",
    "    # Plot the histogram   \n",
    "    ax[0].hist(col, bins=30)\n",
    "    ax[0].set_ylabel('Frequency', fontsize=10)\n",
    "\n",
    "    # Add lines for the mean, median, and mode\n",
    "    ax[0].axvline(x=min_val,  color='orange',     linestyle='dashed', linewidth=2, label='Minimum')\n",
    "    ax[0].axvline(x=mean_val, color='lightgreen', linestyle='dashed', linewidth=2, label='Mean')\n",
    "    ax[0].axvline(x=med_val,  color='cyan',       linestyle='dashed', linewidth=2, label='Median')\n",
    "    ax[0].axvline(x=mod_val,  color='purple',     linestyle='dashed', linewidth=2, label='Mode')\n",
    "    ax[0].axvline(x=max_val,  color='red',        linestyle='dashed', linewidth=2, label='Maximum')\n",
    "    ax[0].legend(loc='upper right')\n",
    "\n",
    "    # Plot the boxplot   \n",
    "    medianprops = dict(linestyle='-', linewidth=3, color='m')\n",
    "    boxprops=dict(linestyle='-', linewidth=1.5)\n",
    "    meanprops={\"marker\":\"d\", \"markerfacecolor\":\"blue\", \"markeredgecolor\":\"black\", \"markersize\":\"10\"}\n",
    "    flierprops={'marker': 'o', 'markersize': 8, 'markerfacecolor': 'fuchsia'}\n",
    "    \n",
    "    ax[1].boxplot(col, \n",
    "                  vert=False,\n",
    "                  notch=True, \n",
    "                  patch_artist=False,\n",
    "                  medianprops=medianprops,\n",
    "                  flierprops=flierprops,\n",
    "                  showmeans=True,\n",
    "                  meanprops=meanprops)\n",
    "    \n",
    "    ax[1].set_xlabel('value', fontsize=10)\n",
    "    \n",
    "\n",
    "    # Add a title to the Figure\n",
    "    fig.suptitle('Data Distribution', fontsize=20)"
   ]
  },
  {
   "cell_type": "markdown",
   "id": "475bbe0e-6449-4ed2-a796-f367e5d3c9dc",
   "metadata": {},
   "source": [
    "## 1.2.1 price"
   ]
  },
  {
   "cell_type": "code",
   "execution_count": null,
   "id": "47864ba5-56b8-465f-8547-fe63e90f0924",
   "metadata": {},
   "outputs": [],
   "source": [
    "# show_distribution(df.price)"
   ]
  },
  {
   "cell_type": "code",
   "execution_count": null,
   "id": "bd59d446-ad4f-4bbd-bbcf-7d07bbe326d2",
   "metadata": {},
   "outputs": [],
   "source": [
    "# check make & models with interactive plots\n",
    "\n",
    "from ipywidgets import interact\n",
    "\n",
    "def box_strip(model):\n",
    "    sns.boxplot(data = df[df.make_model==model],\n",
    "                x= \"make_model\",\n",
    "                y= \"price\",\n",
    "                palette='bright')\n",
    "    \n",
    "    sns.stripplot(data = df[df.make_model==model],\n",
    "                x= \"make_model\",\n",
    "                y= \"price\",\n",
    "                palette='Set1')\n",
    "model = df.make_model.unique()\n",
    "interact(box_strip, model=model);"
   ]
  },
  {
   "cell_type": "code",
   "execution_count": null,
   "id": "014aace7-ccd5-4fdf-ac57-c950a69cdb29",
   "metadata": {},
   "outputs": [],
   "source": []
  },
  {
   "cell_type": "markdown",
   "id": "388383cd-19a4-4fd1-aaba-a3d6ac3281d1",
   "metadata": {},
   "source": [
    "## 1.2.2 km"
   ]
  },
  {
   "cell_type": "code",
   "execution_count": null,
   "id": "b85667cb-27a8-4169-8a9a-7ec1a34a0421",
   "metadata": {},
   "outputs": [],
   "source": [
    "# show_distribution(df.km)"
   ]
  },
  {
   "cell_type": "code",
   "execution_count": null,
   "id": "44c5ce4b-d21e-41d8-b8b9-acc6944ffc77",
   "metadata": {},
   "outputs": [],
   "source": [
    "# over 150k can be dropped?"
   ]
  },
  {
   "cell_type": "code",
   "execution_count": null,
   "id": "ab9b014c-cd18-4620-8239-28128f298e92",
   "metadata": {},
   "outputs": [],
   "source": [
    "df[df.km > 150000].shape"
   ]
  },
  {
   "cell_type": "markdown",
   "id": "5c69084a-08ca-434a-b818-5dc2128ccbd9",
   "metadata": {},
   "source": [
    "## 1.2.3 Gears"
   ]
  },
  {
   "cell_type": "code",
   "execution_count": null,
   "id": "49035718-655c-4827-865b-da3a138d190a",
   "metadata": {},
   "outputs": [],
   "source": [
    "# show_distribution(df.Gears)"
   ]
  },
  {
   "cell_type": "code",
   "execution_count": null,
   "id": "7f3b9819-9c27-40c5-a8b1-2cfd096c0cf9",
   "metadata": {},
   "outputs": [],
   "source": []
  },
  {
   "cell_type": "markdown",
   "id": "cd76aa30-402a-47ab-9fca-3b87ef8cf03b",
   "metadata": {},
   "source": [
    "## 1.2.4 age"
   ]
  },
  {
   "cell_type": "code",
   "execution_count": null,
   "id": "853f441f-edad-4bf6-b198-49228bc39c6a",
   "metadata": {},
   "outputs": [],
   "source": [
    "# show_distribution(df.age)"
   ]
  },
  {
   "cell_type": "markdown",
   "id": "8eca3eb0-e921-4818-b676-187e37d5f19f",
   "metadata": {},
   "source": [
    "## 1.2.5 Previous_Owners"
   ]
  },
  {
   "cell_type": "code",
   "execution_count": null,
   "id": "668e261b-3c6a-4144-81bf-6fce2e94fa03",
   "metadata": {},
   "outputs": [],
   "source": [
    "# show_distribution(df.Previous_Owners)"
   ]
  },
  {
   "cell_type": "markdown",
   "id": "274ecf79-4200-4773-a97d-f81ccb826ece",
   "metadata": {},
   "source": [
    "## 1.2.6 hp_kW"
   ]
  },
  {
   "cell_type": "code",
   "execution_count": null,
   "id": "c585186c-1f16-4203-9ac2-83ccbe41ba03",
   "metadata": {},
   "outputs": [],
   "source": [
    "# show_distribution(df.hp_kW)"
   ]
  },
  {
   "cell_type": "code",
   "execution_count": null,
   "id": "2dc8619e-2a6b-428b-b0c3-823eb13bf7f7",
   "metadata": {},
   "outputs": [],
   "source": [
    "df[df.hp_kW>200].shape"
   ]
  },
  {
   "cell_type": "code",
   "execution_count": null,
   "id": "9cdce5ff-a387-450b-b7b8-6c1076e96ae2",
   "metadata": {},
   "outputs": [],
   "source": [
    "# over 200 can be dropped?"
   ]
  },
  {
   "cell_type": "markdown",
   "id": "8581218f-8a88-431a-a1bd-2868ce0c5085",
   "metadata": {},
   "source": [
    "## 1.2.7 Inspection_new"
   ]
  },
  {
   "cell_type": "code",
   "execution_count": null,
   "id": "d2355854-42e6-4f0d-a4ce-0dfdf64e11b9",
   "metadata": {},
   "outputs": [],
   "source": [
    "df.Inspection_new.value_counts()"
   ]
  },
  {
   "cell_type": "markdown",
   "id": "c8a44383-7480-4ef4-b629-ceb5a18f3b4b",
   "metadata": {},
   "source": [
    "## 1.2.8 Displacement_cc"
   ]
  },
  {
   "cell_type": "code",
   "execution_count": null,
   "id": "61af2995-320e-445d-912b-80a05a27325c",
   "metadata": {},
   "outputs": [],
   "source": [
    "# show_distribution(df.Displacement_cc)"
   ]
  },
  {
   "cell_type": "code",
   "execution_count": null,
   "id": "8a026ff7-3ebd-4948-8892-9394d8ff0b20",
   "metadata": {},
   "outputs": [],
   "source": [
    "# drop the only auto with a displacement over 2480 cc\n",
    "df.drop(index=df[df.Displacement_cc>2480].index, inplace=True)"
   ]
  },
  {
   "cell_type": "markdown",
   "id": "a7d31ff8-a447-4f57-abe4-f9bc0ff2042f",
   "metadata": {},
   "source": [
    "## 1.2.9 Weight_kg"
   ]
  },
  {
   "cell_type": "code",
   "execution_count": null,
   "id": "68de5acd-9ca1-497c-b1a5-42a220f58d76",
   "metadata": {},
   "outputs": [],
   "source": [
    "# show_distribution(df.Weight_kg)"
   ]
  },
  {
   "cell_type": "markdown",
   "id": "2b49f461-614a-4e79-b973-30e8ab071f9b",
   "metadata": {},
   "source": [
    "## 1.2.10 Cons_comb"
   ]
  },
  {
   "cell_type": "code",
   "execution_count": null,
   "id": "bf06a8df-f9e0-4bb2-9349-01556516f700",
   "metadata": {},
   "outputs": [],
   "source": [
    "# show_distribution(df.cons_comb)"
   ]
  },
  {
   "cell_type": "markdown",
   "id": "a2072827-2599-45aa-8061-6a371a31459f",
   "metadata": {},
   "source": [
    "# 1.3 Main statistics"
   ]
  },
  {
   "cell_type": "code",
   "execution_count": null,
   "id": "1b4373ba-36c1-4889-a447-612b92f79d48",
   "metadata": {},
   "outputs": [],
   "source": [
    "df.describe().T"
   ]
  },
  {
   "cell_type": "code",
   "execution_count": null,
   "id": "5a82f019-0fd5-4d8b-a6a5-1096e510f83e",
   "metadata": {},
   "outputs": [],
   "source": [
    "df.corr()"
   ]
  },
  {
   "cell_type": "markdown",
   "id": "9476d1f4-8d2d-4b94-9161-ad418cb31849",
   "metadata": {},
   "source": [
    "# 1.4 Multicolinearity control"
   ]
  },
  {
   "cell_type": "code",
   "execution_count": null,
   "id": "96415959-58a6-40a3-a0be-d59e6aba1764",
   "metadata": {},
   "outputs": [],
   "source": [
    "plt.figure(figsize=(9,9))\n",
    "sns.heatmap(df.corr(), annot=True)"
   ]
  },
  {
   "cell_type": "code",
   "execution_count": null,
   "id": "52b06bcd-84c7-4fa2-959b-c26b53dd4713",
   "metadata": {},
   "outputs": [],
   "source": [
    "df_before_ML = df.copy()"
   ]
  },
  {
   "cell_type": "markdown",
   "id": "e17b3376-de7c-4845-a60a-fc0b623b5156",
   "metadata": {},
   "source": [
    "# 2 Data Pre-processing"
   ]
  },
  {
   "cell_type": "markdown",
   "id": "9d302412-1285-4d80-bc58-01ce2bde3aff",
   "metadata": {},
   "source": [
    "On of the main component part of the machine learning is to edit the data before proceeding to the implementation of the model. As the last step before model fitting, we need to split the data set as train and test. Then, we should train the model with train data and evaluate the performance of the model on the test data. We can use these train and test data for all algorithms.\n",
    "\n",
    "We also have to drop our target variable, the column we are trying to predict, price in this case.\n",
    "\n",
    "We can use many performance metrics for regression to measure the performance of the regression model we train. We can define a function to view different metric results together.\n",
    "\n",
    "We can also use the cross validation method to measure the estimator performance. Cross validation uses different data samples from our test set and calculates the accuracy score for each data sample. We can calculate the final performance of our estimator by averaging these scores. All these will be performed below for various algorithms."
   ]
  },
  {
   "cell_type": "markdown",
   "id": "64d587f4-ceea-4612-8394-0b79f7ffe199",
   "metadata": {},
   "source": [
    "## 2.1 Split the data"
   ]
  },
  {
   "cell_type": "code",
   "execution_count": null,
   "id": "4f0a9ba8-7874-40bf-b65b-d223f607378f",
   "metadata": {},
   "outputs": [],
   "source": [
    "X= df.drop(columns=\"price\")\n",
    "y= df.price"
   ]
  },
  {
   "cell_type": "code",
   "execution_count": null,
   "id": "7c6f9c00-869e-489d-8f88-727b4fbc93af",
   "metadata": {},
   "outputs": [],
   "source": [
    "X_train, X_test, y_train, y_test = train_test_split(X, y, test_size=0.2, random_state=42)"
   ]
  },
  {
   "cell_type": "markdown",
   "id": "62dabc67-8550-470c-aa6f-cc447e1fdf83",
   "metadata": {},
   "source": [
    "## 2.2 Encoding"
   ]
  },
  {
   "cell_type": "code",
   "execution_count": null,
   "id": "3e6da307-ba65-4f47-bb3c-74325fc4eef9",
   "metadata": {},
   "outputs": [],
   "source": [
    "df_object.columns"
   ]
  },
  {
   "cell_type": "code",
   "execution_count": null,
   "id": "6aee6319-f99b-47c0-873b-39291ee28a4e",
   "metadata": {},
   "outputs": [],
   "source": [
    "df.Extras.dtype"
   ]
  },
  {
   "cell_type": "code",
   "execution_count": null,
   "id": "43a368ad-e7b0-40ef-b256-bb108616caa9",
   "metadata": {},
   "outputs": [],
   "source": [
    "df.Type.value_counts()"
   ]
  },
  {
   "cell_type": "code",
   "execution_count": null,
   "id": "5f948646-cedb-41a4-8b67-38fb8a9c53cc",
   "metadata": {},
   "outputs": [],
   "source": [
    "df.Type.value_counts()"
   ]
  },
  {
   "cell_type": "code",
   "execution_count": null,
   "id": "be36f81e-7fff-4656-9cec-b838626b23d6",
   "metadata": {},
   "outputs": [],
   "source": [
    "# separate the features as categorical and ordinal features\n",
    "\n",
    "cat_onehot  = ['make_model', 'body_type', 'vat', 'Fuel', 'Paint_Type', 'Upholstery_type', 'Gearing_Type']\n",
    "cat_ordinal = ['Type', 'Comfort_Convenience', 'Entertainment_Media', 'Safety_Security']\n",
    "    \n",
    "# define the order for each category in ordinal categorical fatures\n",
    "cat_for_type = [\"Used\", \"Employee's car\", \"Demonstration\", \"Pre-registered\", \"New\"]\n",
    "cat_for_comfort = ['Standard', 'Premium']\n",
    "cat_for_ent = ['Standard', 'Plus']\n",
    "cat_for_safety = ['Safety Standard Package', 'Safety Premium Package', 'Safety Premium Plus Package']"
   ]
  },
  {
   "cell_type": "code",
   "execution_count": null,
   "id": "a5d3c291-f474-4e1c-82d4-bcf4349a5d10",
   "metadata": {},
   "outputs": [],
   "source": [
    "from sklearn.compose import make_column_transformer\n",
    "from sklearn.preprocessing import OneHotEncoder, OrdinalEncoder\n",
    "\n",
    "column_trans = make_column_transformer(\n",
    "                        (OneHotEncoder(handle_unknown=\"ignore\", sparse=False), cat_onehot), \n",
    "                        (OrdinalEncoder(categories= [cat_for_type, cat_for_comfort, cat_for_ent, cat_for_safety]),cat_ordinal),\n",
    "                         remainder='passthrough', \n",
    "                         verbose_feature_names_out=False) \n",
    "\n",
    "column_trans=column_trans.set_output(transform=\"pandas\")"
   ]
  },
  {
   "cell_type": "code",
   "execution_count": null,
   "id": "633c9a23-3725-445f-807c-0a9297bb07b3",
   "metadata": {},
   "outputs": [],
   "source": [
    "column_trans.fit_transform(X_train).head()"
   ]
  },
  {
   "cell_type": "code",
   "execution_count": null,
   "id": "9c4fde7d-bb65-4e1f-a75a-68983e505b95",
   "metadata": {},
   "outputs": [],
   "source": [
    "X_train_trans = column_trans.fit_transform(X_train)\n",
    "X_test_trans = column_trans.transform(X_test)"
   ]
  },
  {
   "cell_type": "code",
   "execution_count": null,
   "id": "9fa30ddf-6a6c-4fa9-a01b-1f79aaea7a31",
   "metadata": {},
   "outputs": [],
   "source": [
    "X_train_trans.shape"
   ]
  },
  {
   "cell_type": "code",
   "execution_count": null,
   "id": "95df3abd-5661-41fe-8401-0f01e8718733",
   "metadata": {},
   "outputs": [],
   "source": [
    "X_train_trans.join(y_train).corr()"
   ]
  },
  {
   "cell_type": "markdown",
   "id": "263d9129-5e97-476c-849f-daf53dd4df05",
   "metadata": {},
   "source": [
    "# check correlations for all features\n",
    "import plotly.express as px\n",
    "\n",
    "corr = X_train_trans.join(y_train).corr()\n",
    "fig = px.imshow(corr,width=1000, height=1000)\n",
    "fig.show()"
   ]
  },
  {
   "cell_type": "code",
   "execution_count": null,
   "id": "41f2a5fb-74c7-4da5-b4c9-f218fb7a1270",
   "metadata": {},
   "outputs": [],
   "source": [
    "# plt.figure(figsize=(20,15))\n",
    "# sns.heatmap(X_train_trans.join(y_train).corr(), vmin=-1, vmax=1, cmap=\"coolwarm\");"
   ]
  },
  {
   "cell_type": "markdown",
   "id": "b8f8c0c6-a222-46e7-a7d9-eb22cc7a8b95",
   "metadata": {},
   "source": [
    "## 2.3 Scaling"
   ]
  },
  {
   "cell_type": "code",
   "execution_count": null,
   "id": "01413382-f486-4ce0-93d4-ac24594b8f5e",
   "metadata": {},
   "outputs": [],
   "source": [
    "# our features are mostly between 0 and 1. however engine size, km, price etc have too high values. \n",
    "# so we should normalize them by scaling them\n",
    "scaler = MinMaxScaler().set_output(transform=\"pandas\")\n",
    "scaler.fit(X_train_trans)\n",
    "\n",
    "# why min max instead of standardsclaer: bec we have a lot of cat features with values of 0 and 1.\n",
    "# In order not to change their values, we chose min max scaler\n",
    "\n",
    "X_train_scaled = scaler.transform(X_train_trans)\n",
    "X_test_scaled = scaler.transform(X_test_trans)"
   ]
  },
  {
   "cell_type": "markdown",
   "id": "f240acbf-a0af-4f7a-81e4-a59a5a5be3a1",
   "metadata": {},
   "source": [
    "# 3. Implement Multiple Linear Regression"
   ]
  },
  {
   "cell_type": "markdown",
   "id": "985685ba-ea5e-45d7-b07e-db1766f76665",
   "metadata": {},
   "source": [
    "Steps:\n",
    "- Import the modul\n",
    "- Fit the model\n",
    "- Predict the test set\n",
    "- Determine feature coefficiant\n",
    "- Evaluate model performance (use performance metrics for regression and cross_val_score)\n",
    "- Compare different evaluation metrics"
   ]
  },
  {
   "cell_type": "code",
   "execution_count": null,
   "id": "5961b45c-62d2-4c78-9639-5a6dfd548a8e",
   "metadata": {},
   "outputs": [],
   "source": [
    "# user defined function for evaluation metrics\n",
    "\n",
    "def train_val(model, X_train, y_train, X_test, y_test):\n",
    "    \n",
    "    y_pred = model.predict(X_test)\n",
    "    y_train_pred = model.predict(X_train)\n",
    "    \n",
    "    scores = {\"train\": {\"R2\" : r2_score(y_train, y_train_pred),\n",
    "                        \"mae\" : mean_absolute_error(y_train, y_train_pred),\n",
    "                        \"mse\" : mean_squared_error(y_train, y_train_pred),\n",
    "                        \"rmse\" : mean_squared_error(y_train, y_train_pred, squared=False)},\n",
    "              \"test\": {\"R2\" : r2_score(y_test, y_pred),\n",
    "                       \"mae\" : mean_absolute_error(y_test, y_pred),\n",
    "                       \"mse\" : mean_squared_error(y_test, y_pred),\n",
    "                       \"rmse\" : mean_squared_error(y_test, y_pred, squared=False)}}\n",
    "    \n",
    "    return pd.DataFrame(scores)"
   ]
  },
  {
   "cell_type": "code",
   "execution_count": null,
   "id": "da4ae0bd-7041-4d62-a801-c46a37b592c3",
   "metadata": {},
   "outputs": [],
   "source": [
    "from sklearn.linear_model import LinearRegression\n",
    "lm = LinearRegression()\n",
    "lm.fit(X_train_scaled, y_train)"
   ]
  },
  {
   "cell_type": "code",
   "execution_count": null,
   "id": "bda8cd54-b759-4001-a6cb-b164696324db",
   "metadata": {},
   "outputs": [],
   "source": [
    "train_val(lm, X_train_scaled, y_train, X_test_scaled, y_test)\n",
    "# first insight: no overfitting - R2 is high"
   ]
  },
  {
   "cell_type": "markdown",
   "id": "4dc59341-e996-45c7-8c8d-cbc4060acc08",
   "metadata": {},
   "source": [
    "### 3.1 Adjusted R2 Score"
   ]
  },
  {
   "cell_type": "code",
   "execution_count": null,
   "id": "aacadb5d-0268-4c1e-bb9e-84331918c490",
   "metadata": {},
   "outputs": [],
   "source": [
    "def adj_r2(y_test, y_pred, X):\n",
    "    r2 = r2_score(y_test, y_pred)\n",
    "    n = X.shape[0]   # number of observations\n",
    "    p = X.shape[1]   # number of independent variables \n",
    "    adj_r2 = 1 - (1-r2)*(n-1)/(n-p-1)\n",
    "    return adj_r2"
   ]
  },
  {
   "cell_type": "code",
   "execution_count": null,
   "id": "ea55e01e-eb15-492d-9288-c7133c5b4d81",
   "metadata": {},
   "outputs": [],
   "source": [
    "# get the predictions to use in the adj_r2 function\n",
    "y_pred = lm.predict(X_test_scaled)"
   ]
  },
  {
   "cell_type": "code",
   "execution_count": null,
   "id": "ae6a483a-eee9-4141-9cab-7d6590c4bb8e",
   "metadata": {},
   "outputs": [],
   "source": [
    "adj_r2(y_test, y_pred, X)\n",
    "# similar to normal R2"
   ]
  },
  {
   "cell_type": "markdown",
   "id": "19a62b95-0fee-445c-acc8-47c3dc2eabfb",
   "metadata": {},
   "source": [
    "### 3.2 Cross validation and overfitting control"
   ]
  },
  {
   "cell_type": "code",
   "execution_count": null,
   "id": "04c14d09-3cc6-4d77-9707-5c7f34e3b92c",
   "metadata": {},
   "outputs": [],
   "source": [
    "model = LinearRegression()\n",
    "\n",
    "scores = cross_validate(model, \n",
    "                        X_train_scaled, \n",
    "                        y_train, \n",
    "                        scoring=['r2', \n",
    "                                'neg_mean_absolute_error',\n",
    "                                'neg_mean_squared_error',\n",
    "                                'neg_root_mean_squared_error'], \n",
    "                        cv =5,\n",
    "                        return_train_score=True)"
   ]
  },
  {
   "cell_type": "code",
   "execution_count": null,
   "id": "c8d57f7e-f557-419c-aead-b2bede74809b",
   "metadata": {},
   "outputs": [],
   "source": [
    "pd.DataFrame(scores).iloc[:, 2:].mean()\n",
    "# no overfitting"
   ]
  },
  {
   "cell_type": "code",
   "execution_count": null,
   "id": "dc1ca33f-ea08-466d-b635-8dcbc961fa79",
   "metadata": {},
   "outputs": [],
   "source": [
    "train_val(lm, X_train_scaled, y_train, X_test_scaled, y_test)"
   ]
  },
  {
   "cell_type": "markdown",
   "id": "26d97911-8e62-4db6-bc08-5f0cff3cb6c3",
   "metadata": {},
   "source": [
    "### 3.3 Is this data suitable for Linear Regression?"
   ]
  },
  {
   "cell_type": "markdown",
   "id": "cd9837d6-6813-4a95-a449-a99c45eb2ea4",
   "metadata": {},
   "source": [
    "To determine whether a dataset is suitable for linear regression or not, we can perform several checks and analyses on the data. Here are some methods to consider:\n",
    "\n",
    "Check the correlation between the independent variables and the dependent variable: Linear regression assumes a linear relationship between the independent variables and the dependent variable. We can calculate the correlation coefficients between the independent variables and the dependent variable to check if there is a linear relationship between them. If the correlation is high (close to 1 or -1), it suggests a strong linear relationship, which may be suitable for linear regression. As we have seen above, there are features such as km, hp_kw or age which have higher correlations with the target feature price.\n",
    "\n",
    "Check for multicollinearity: Multicollinearity occurs when independent variables are highly correlated with each other. In such cases, it becomes difficult to separate the effects of each independent variable on the dependent variable. This can lead to unstable and unreliable regression coefficients. To check for multicollinearity, we can calculate the correlation matrix between the independent variables and check for high correlations between them. As we have seen above, there is no multicolinearity.\n",
    "\n",
    "Check the residuals: The residuals are the differences between the predicted and actual values of the dependent variable. We can plot the residuals to check for patterns or trends in the data. If the residuals are randomly scattered around zero, it suggests that linear regression may be suitable. However, if there is a pattern in the residuals, such as a U-shape or a curve, it suggests that linear regression may not be appropriate. Below the details.\n",
    "\n",
    "Check for outliers: Outliers are data points that are significantly different from other data points. They can have a large effect on the regression line and lead to unreliable predictions. We can plot the data and check for any outliers that may need to be removed or dealt with separately. They will be checked below.\n",
    "\n",
    "Check the distribution of the dependent variable: Linear regression assumes that the dependent variable is normally distributed. We can plot a histogram of the dependent variable to check if it follows a normal distribution. If it is skewed, we may need to transform the data before using linear regression. As if have seen above,the price feature does not have a normal distribution. Therefore we should drop theoutliers below."
   ]
  },
  {
   "cell_type": "markdown",
   "id": "55c10165-41c7-4fa9-af75-add0db86acfe",
   "metadata": {},
   "source": [
    "### 3.4 Prediction Error with Outliers"
   ]
  },
  {
   "cell_type": "code",
   "execution_count": null,
   "id": "f593b8b8-24db-448d-9824-84118137f2ba",
   "metadata": {},
   "outputs": [],
   "source": [
    "from yellowbrick.regressor import PredictionError\n",
    "from yellowbrick.features import RadViz\n",
    "\n",
    "visualizer = RadViz(size=(500, 1000))\n",
    "model = LinearRegression()\n",
    "visualizer = PredictionError(model)\n",
    "visualizer.fit(X_train_scaled, y_train)  # Fit the training data to the visualizer\n",
    "visualizer.score(X_test_scaled, y_test)  # Evaluate the model on the test data\n",
    "visualizer.show();\n",
    "\n",
    "# similar to the insight from boxplot. price over 50k looks like outliers"
   ]
  },
  {
   "cell_type": "code",
   "execution_count": null,
   "id": "177fc7c0-eb11-48f8-b09d-e1ce16751130",
   "metadata": {},
   "outputs": [],
   "source": [
    "y_pred=lm.predict(X_test_scaled)\n",
    "\n",
    "\n",
    "plt.figure(figsize=(10,7))\n",
    "plt.subplot(211)\n",
    "\n",
    "sns.scatterplot(x = y_test, y = y_pred) #-residuals\n",
    "plt.axhline(y = 0, color =\"r\", linestyle = \"--\")\n",
    "plt.ylabel(\"y_pred\")\n",
    "plt.xlim([0,30000])\n",
    "plt.ylim([-1000,30000])\n",
    "\n",
    "plt.subplot(212)\n",
    "\n",
    "sns.scatterplot(x = y_test, y = y_pred) #-residuals\n",
    "plt.axhline(y = 0, color =\"r\", linestyle = \"--\")\n",
    "plt.ylabel(\"y_pred\")\n",
    "plt.xlim([40000, 80000])\n",
    "plt.ylim([0,80000])\n",
    "plt.show();"
   ]
  },
  {
   "cell_type": "markdown",
   "id": "00d4c503-33bb-499e-9c87-fb9eed87c681",
   "metadata": {},
   "source": [
    "### Residual plot with poutliers"
   ]
  },
  {
   "cell_type": "code",
   "execution_count": null,
   "id": "2d27c63a-88c8-43cc-9123-e24b0a008f64",
   "metadata": {},
   "outputs": [],
   "source": [
    "from yellowbrick.regressor import ResidualsPlot\n",
    "\n",
    "visualizer = RadViz(size=(1000, 500))\n",
    "model = LinearRegression()\n",
    "visualizer = ResidualsPlot(model)\n",
    "\n",
    "visualizer.fit(X_train_scaled, y_train)  # Fit the training data to the visualizer\n",
    "visualizer.score(X_test_scaled, y_test)  # Evaluate the model on the test data\n",
    "visualizer.show(); "
   ]
  },
  {
   "cell_type": "code",
   "execution_count": null,
   "id": "e72a5c76-6fe3-4c7d-8021-1322ea06bec7",
   "metadata": {},
   "outputs": [],
   "source": [
    "y_pred=lm.predict(X_test_scaled)\n",
    "y_pred_train = lm.predict(X_train_scaled)\n",
    "\n",
    "residual_test = y_test-y_pred\n",
    "residual_train = y_train-y_pred_train\n",
    "\n",
    "plt.figure(figsize=(20,7))\n",
    "plt.subplot(121)\n",
    "\n",
    "sns.scatterplot(x = y_pred, y = residual_test, palette=\"deep\", size=2, alpha=0.6)\n",
    "sns.scatterplot(x = y_pred_train, y = residual_train, size=2, alpha=0.4)\n",
    "\n",
    "plt.axhline(y = 0, color =\"r\", linestyle = \"--\")\n",
    "plt.ylabel(\"residuals\")\n",
    "plt.xlabel(\"y_pred\")\n",
    "\n",
    "plt.subplot(122)\n",
    "\n",
    "sns.scatterplot(x = y_pred, y = residual_test, palette=\"deep\", size=2, alpha=0.6)\n",
    "sns.scatterplot(x = y_pred_train, y = residual_train, size=2, alpha=0.4)\n",
    "\n",
    "plt.axhline(y = 0, color =\"r\", linestyle = \"--\")\n",
    "plt.ylabel(\"residuals\")\n",
    "plt.xlabel(\"y_pred\")\n",
    "plt.xlim([1000,10000])\n",
    "plt.ylim([-10000,20000])\n",
    "plt.show();"
   ]
  },
  {
   "cell_type": "markdown",
   "id": "8238fa9d-f792-4cb5-9aa5-6ecae2ec2852",
   "metadata": {},
   "source": [
    "# 4. Filtering the data, cleaning the outliers and rebuilding the model"
   ]
  },
  {
   "cell_type": "code",
   "execution_count": null,
   "id": "89a47e17-9f77-463f-acd7-d51d52096e70",
   "metadata": {},
   "outputs": [],
   "source": [
    "df[(df.price > 45000)].shape"
   ]
  },
  {
   "cell_type": "code",
   "execution_count": null,
   "id": "6180dfe7-099c-4372-a397-1a70e6625904",
   "metadata": {},
   "outputs": [],
   "source": [
    "df[(df.price < 7000)].shape"
   ]
  },
  {
   "cell_type": "code",
   "execution_count": null,
   "id": "bfb787b5-83f8-413a-8838-2fa61e91200c",
   "metadata": {},
   "outputs": [],
   "source": [
    "df.shape"
   ]
  },
  {
   "cell_type": "code",
   "execution_count": null,
   "id": "ebb4c6fb-6e34-4901-a95a-eb6a224f5246",
   "metadata": {},
   "outputs": [],
   "source": [
    "# since they have a negative effect on the distribution of the data and the performance of Ml algorithms,\n",
    "# the autos with a price higher than 45000 and lower than 7000 will be dropped and the model will be rebuilt.\n",
    "\n",
    "df[(df[\"price\"] <7000) | (df[\"price\"] > 45000)].shape"
   ]
  },
  {
   "cell_type": "code",
   "execution_count": null,
   "id": "ef47a380-56b8-4515-b494-91af91a0c723",
   "metadata": {},
   "outputs": [],
   "source": [
    "df.drop(index = df[(df[\"price\"] <7000) | (df[\"price\"] > 45000)].index, inplace=True)"
   ]
  },
  {
   "cell_type": "code",
   "execution_count": null,
   "id": "e8288404-acef-490d-b4f3-b95e8f6076d2",
   "metadata": {},
   "outputs": [],
   "source": [
    "df.shape"
   ]
  },
  {
   "cell_type": "code",
   "execution_count": null,
   "id": "5098f926-209b-4a43-92e3-4f7830fea09c",
   "metadata": {},
   "outputs": [],
   "source": [
    "# user defined function for outliers\n",
    "def tukey_outliers(data):\n",
    "    '''\n",
    "    Identify and optionally drop the outliers from a given dataset using Tukey's method.\n",
    "    '''\n",
    "\n",
    "    # Calculate the interquartile range (IQR)\n",
    "    q1, q3 = np.percentile(data, [25, 75])\n",
    "    iqr = q3 - q1\n",
    "\n",
    "    # Calculate the lower and upper bounds for outlier detection\n",
    "    lower_bound = q1 - 1.5 * iqr\n",
    "    upper_bound = q3 + 1.5 * iqr\n",
    "\n",
    "    # Identify the outliers\n",
    "    outliers = (data < lower_bound) | (data > upper_bound)\n",
    "    return lower_bound, upper_bound"
   ]
  },
  {
   "cell_type": "code",
   "execution_count": null,
   "id": "6adac244-adc4-42a7-ad06-d25096eeb8b7",
   "metadata": {},
   "outputs": [],
   "source": [
    "tukey_outliers(df.km)\n",
    "# we will drop over 100.000 "
   ]
  },
  {
   "cell_type": "code",
   "execution_count": null,
   "id": "75c81e28-59ed-4786-ad12-459d443855a3",
   "metadata": {},
   "outputs": [],
   "source": [
    "# show_distribution(df.km)"
   ]
  },
  {
   "cell_type": "code",
   "execution_count": null,
   "id": "973cf28a-1574-4d5e-a079-27acb5e5fcb3",
   "metadata": {},
   "outputs": [],
   "source": [
    "# km feature. drop over 104k\n",
    "df = df[df.km<100000]\n",
    "df.shape"
   ]
  },
  {
   "cell_type": "code",
   "execution_count": null,
   "id": "bd52b283-40c9-4a8c-a6fa-4611bce75a51",
   "metadata": {},
   "outputs": [],
   "source": [
    "# hp_kW feature\n",
    "df[df.hp_kW>200].shape"
   ]
  },
  {
   "cell_type": "code",
   "execution_count": null,
   "id": "aaac38f9-915c-4acd-9bc8-ff6f11bc7ba4",
   "metadata": {},
   "outputs": [],
   "source": [
    "# drop outliers of hp_kW\n",
    "df = df[df.hp_kW<200]\n",
    "df.shape"
   ]
  },
  {
   "cell_type": "code",
   "execution_count": null,
   "id": "37c01f65-71e8-40d7-93a4-467dfd022196",
   "metadata": {},
   "outputs": [],
   "source": [
    "# split the new data\n",
    "X = df.drop(columns = \"price\")\n",
    "y = df.price\n",
    "\n",
    "X_train, X_test, y_train, y_test = train_test_split(X, y, test_size=0.2, random_state=42)"
   ]
  },
  {
   "cell_type": "code",
   "execution_count": null,
   "id": "99b7ece8-a69a-4240-9661-0b22b166215a",
   "metadata": {},
   "outputs": [],
   "source": [
    "# implement encoding via column transformer\n",
    "X_train= column_trans.fit_transform(X_train)\n",
    "X_test= column_trans.transform(X_test)"
   ]
  },
  {
   "cell_type": "code",
   "execution_count": null,
   "id": "9092cbd0-0d10-40e0-8f66-64b2936f3d40",
   "metadata": {},
   "outputs": [],
   "source": [
    "# scale the data\n",
    "\n",
    "X_train_scaled = scaler.fit_transform(X_train)\n",
    "X_test_scaled = scaler.transform(X_test)"
   ]
  },
  {
   "cell_type": "code",
   "execution_count": null,
   "id": "0b454aaf-f99d-4fe1-b7d6-d11e08346e23",
   "metadata": {},
   "outputs": [],
   "source": [
    "# build the model and fit the train data\n",
    "lm2 = LinearRegression()\n",
    "lm2.fit(X_train_scaled, y_train)"
   ]
  },
  {
   "cell_type": "code",
   "execution_count": null,
   "id": "982c61f6-0796-4e7e-abd3-2efc32fd5807",
   "metadata": {},
   "outputs": [],
   "source": [
    "# compare the evaluation metrics for train and test data\n",
    "train_val(lm2, X_train_scaled, y_train, X_test_scaled, y_test)\n",
    "\n",
    "# we have decreased the errors after cleaning the outliers\n",
    "# the difference between test and train scores have increased, however we should perform\n",
    "# cross val to be sure"
   ]
  },
  {
   "cell_type": "raw",
   "id": "29eb94c7-3d8d-41cf-8083-28320e000bd0",
   "metadata": {},
   "source": [
    "        train\ttest\n",
    "R2\t    0.862\t0.857\n",
    "mae\t    1910.205\t1913.279\n",
    "mse\t    7605606.584\t7774201.794\n",
    "rmse\t2757.826\t2788.226\n"
   ]
  },
  {
   "cell_type": "markdown",
   "id": "77a76536-3c32-4347-b3e3-f201616db5d2",
   "metadata": {},
   "source": [
    "**Prediction Error without Outliers**\n"
   ]
  },
  {
   "cell_type": "code",
   "execution_count": null,
   "id": "e6283fd4-fc87-442a-bc67-0e65a12381c0",
   "metadata": {},
   "outputs": [],
   "source": [
    "visualizer = RadViz(size=(500, 1000))\n",
    "model = LinearRegression()\n",
    "visualizer = PredictionError(model)\n",
    "visualizer.fit(X_train_scaled, y_train)  # Fit the training data to the visualizer\n",
    "visualizer.score(X_test_scaled, y_test)  # Evaluate the model on the test data\n",
    "visualizer.show();"
   ]
  },
  {
   "cell_type": "code",
   "execution_count": null,
   "id": "53f90e19-ac20-40e5-95e3-0f3ea9ab4c3b",
   "metadata": {},
   "outputs": [],
   "source": [
    "model = LinearRegression()\n",
    "scores = cross_validate(model, \n",
    "                        X_train_scaled, \n",
    "                        y_train,\n",
    "                        scoring=['r2', \n",
    "                                 'neg_mean_absolute_error',\n",
    "                                 'neg_mean_squared_error',\n",
    "                                 'neg_root_mean_squared_error'], \n",
    "                        cv=5, \n",
    "                        return_train_score=True)\n",
    "\n",
    "# yeni datamıza göre cross val ile overfiting kontrolü yapıyoruz."
   ]
  },
  {
   "cell_type": "code",
   "execution_count": null,
   "id": "d1c6a1e8-ea13-4e49-bfdc-2b215080224a",
   "metadata": {},
   "outputs": [],
   "source": [
    "# check overfitting\n",
    "scores = pd.DataFrame(scores, index = range(1, 6))\n",
    "scores.iloc[:,2:].mean()\n",
    "\n",
    "# train ve validation scores show that there is no overfitting"
   ]
  },
  {
   "cell_type": "code",
   "execution_count": null,
   "id": "3d18576c-7222-4f51-8691-0185ee22fe08",
   "metadata": {},
   "outputs": [],
   "source": [
    "y_pred = lm2.predict(X_test_scaled)\n",
    "\n",
    "lm_R2 = r2_score(y_test, y_pred)\n",
    "lm_mae = mean_absolute_error(y_test, y_pred)\n",
    "lm_rmse = mean_squared_error(y_test, y_pred, squared=False)\n",
    "\n",
    "# scores from the linear model will be used to compare with other algorithms in the end"
   ]
  },
  {
   "cell_type": "code",
   "execution_count": null,
   "id": "35969297-9772-406c-a443-9a8e0d95f2c7",
   "metadata": {},
   "outputs": [],
   "source": [
    "pd.DataFrame(lm2.coef_, index = X_train.columns, columns=[\"Coef\"])\n",
    "\n",
    "# why the coefs of the dummy features are too high?\n",
    "\n",
    "# Bec of \"Dummy variable trap\"\n",
    "\n",
    "# https://geoffruddock.com/one-hot-encoding-plus-linear-regression-equals-multi-collinearity/"
   ]
  },
  {
   "cell_type": "markdown",
   "id": "d3cb67ea-b50b-4d14-910d-3b41c87f8711",
   "metadata": {},
   "source": [
    "# 5. Implement Lasso Regression"
   ]
  },
  {
   "cell_type": "markdown",
   "id": "e9cabbca-ccc1-4009-a868-8dcfca9adc4b",
   "metadata": {},
   "source": [
    "\n",
    "- Import the modul\n",
    "- scale the data or use Normalize parameter as True(If needed)\n",
    "- Fit the model\n",
    "- Predict the test set\n",
    "- Evaluate model performance (use performance metrics for regression)\n",
    "- Tune alpha hyperparameter by using cross validation and determine the optimal alpha value.\n",
    "- Fit the model and predict again with the new alpha value.\n",
    "- Compare different evaluation metrics"
   ]
  },
  {
   "cell_type": "code",
   "execution_count": null,
   "id": "753ab000-0b13-47ed-9fea-247ef6ae9a43",
   "metadata": {},
   "outputs": [],
   "source": [
    "# separate the features as categorical and ordinal features\n",
    "\n",
    "cat_onehot  = ['make_model', 'body_type', 'vat', 'Fuel', 'Paint_Type', 'Upholstery_type', 'Gearing_Type']\n",
    "cat_ordinal = ['Type', 'Comfort_Convenience', 'Entertainment_Media', 'Safety_Security']\n",
    "    \n",
    "# define the order for each category in ordinal categorical fatures\n",
    "cat_for_type = [\"Used\", \"Employee's car\", \"Demonstration\", \"Pre-registered\", \"New\"]\n",
    "cat_for_comfort = ['Standard', 'Premium']\n",
    "cat_for_ent = ['Standard', 'Plus']\n",
    "cat_for_safety = ['Safety Standard Package', 'Safety Premium Package', 'Safety Premium Plus Package']"
   ]
  },
  {
   "cell_type": "code",
   "execution_count": null,
   "id": "912fcaaf-a203-4b8e-8321-f8d27dd66eb3",
   "metadata": {},
   "outputs": [],
   "source": [
    "from sklearn.compose import make_column_transformer\n",
    "from sklearn.preprocessing import OneHotEncoder, OrdinalEncoder\n",
    "\n",
    "column_trans = make_column_transformer(\n",
    "                        (OneHotEncoder(handle_unknown=\"ignore\", sparse=False), cat_onehot), \n",
    "                        (OrdinalEncoder(categories= [cat_for_type, cat_for_comfort, cat_for_ent, cat_for_safety]),cat_ordinal),\n",
    "                         remainder='passthrough', \n",
    "                         verbose_feature_names_out=False) \n",
    "\n",
    "column_trans=column_trans.set_output(transform=\"pandas\")"
   ]
  },
  {
   "cell_type": "code",
   "execution_count": null,
   "id": "425b9934-18e0-4f7c-aef6-b3e35e858593",
   "metadata": {
    "tags": []
   },
   "outputs": [],
   "source": [
    "# import Lasso\n",
    "from sklearn.linear_model import Lasso"
   ]
  },
  {
   "cell_type": "code",
   "execution_count": null,
   "id": "28454d64-c14f-40ea-a251-f18490e2e466",
   "metadata": {},
   "outputs": [],
   "source": [
    "# split the new data\n",
    "X = df.drop(columns = \"price\")\n",
    "y = df.price\n",
    "\n",
    "X_train, X_test, y_train, y_test = train_test_split(X, y, test_size=0.2, random_state=42)"
   ]
  },
  {
   "cell_type": "code",
   "execution_count": null,
   "id": "161504c4-0667-4d9a-9b6a-00c75fc8c055",
   "metadata": {},
   "outputs": [],
   "source": [
    "# create and set pipeline\n",
    "from sklearn.pipeline import Pipeline\n",
    "\n",
    "operations = [(\"OneHot_Ordinal_Encoder\", column_trans), (\"scaler\", MinMaxScaler()), (\"Lasso\", Lasso())]\n",
    "\n",
    "lasso_model = Pipeline(steps=operations)\n",
    "\n",
    "lasso_model.fit(X_train, y_train)"
   ]
  },
  {
   "cell_type": "code",
   "execution_count": null,
   "id": "dcba4979-0748-4b2e-a8e6-73a859d56426",
   "metadata": {},
   "outputs": [],
   "source": [
    "# compare the eval metrics for train and test data\n",
    "train_val(lasso_model, X_train, y_train, X_test, y_test)"
   ]
  },
  {
   "cell_type": "raw",
   "id": "d412b4a8-4c41-43b3-bc92-e7da9ceede13",
   "metadata": {},
   "source": [
    "- compare with lm2\n",
    "\ttrain\ttest\n",
    "R2\t0.868\t0.864\n",
    "mae\t1787.249\t1791.635\n",
    "mse\t6328043.688\t6286355.755\n",
    "rmse\t2515.560\t2507.261\n"
   ]
  },
  {
   "cell_type": "markdown",
   "id": "1c21cfcc-9b9a-4b8b-a8fe-9af177e4717e",
   "metadata": {},
   "source": [
    "## 5.1. Cross validation - lasso"
   ]
  },
  {
   "cell_type": "code",
   "execution_count": null,
   "id": "bbddcfb6-7fff-4af3-ac91-97b52eb66575",
   "metadata": {},
   "outputs": [],
   "source": [
    "operations = [(\"OneHot_Ordinal_Encoder\", column_trans), \n",
    "              (\"scaler\", MinMaxScaler()), \n",
    "              (\"Lasso\", Lasso())]\n",
    "\n",
    "model = Pipeline(steps=operations)\n",
    "scores_lasso = cross_validate(model, \n",
    "                        X_train, \n",
    "                        y_train,\n",
    "                        scoring=['r2', \n",
    "                                 'neg_mean_absolute_error',\n",
    "                                 'neg_mean_squared_error',\n",
    "                                 'neg_root_mean_squared_error'],\n",
    "                        cv=5, \n",
    "                        return_train_score=True)"
   ]
  },
  {
   "cell_type": "code",
   "execution_count": null,
   "id": "958799a5-24df-4dac-9bc8-49a316476500",
   "metadata": {},
   "outputs": [],
   "source": [
    "scores_lasso = pd.DataFrame(scores_lasso, index = range(1, 6))\n",
    "scores_lasso.iloc[:,2:].mean()\n",
    "# no overfitting"
   ]
  },
  {
   "cell_type": "markdown",
   "id": "61388453-b8e1-4c37-8fac-66a7628251da",
   "metadata": {},
   "source": [
    "## 5.2 Finding best alpha for Lasso"
   ]
  },
  {
   "cell_type": "code",
   "execution_count": null,
   "id": "99384366-8419-477d-848a-62f91a50e049",
   "metadata": {},
   "outputs": [],
   "source": [
    "# build the model via pipeline\n",
    "from sklearn.model_selection import GridSearchCV\n",
    "\n",
    "operations = [(\"OneHot_Ordinal_Encoder\", column_trans), \n",
    "              (\"scaler\", MinMaxScaler()), \n",
    "              (\"Lasso\", Lasso())]\n",
    "\n",
    "model = Pipeline(steps=operations)\n",
    "\n",
    "alpha_space = np.linspace(0.05, 1, 3) # after trying with 0.001,1 and 10 we'll execute with other alpha space\n",
    "\n",
    "param_grid = {'Lasso__alpha':alpha_space}  # to use in model below.\n",
    "\n",
    "lasso_grid_model = GridSearchCV(estimator=model,\n",
    "                          param_grid=param_grid,\n",
    "                          scoring='neg_root_mean_squared_error',\n",
    "                          cv=5,\n",
    "                          n_jobs = -1,\n",
    "                          return_train_score=True)"
   ]
  },
  {
   "cell_type": "code",
   "execution_count": null,
   "id": "9ad2df95-5f17-48ad-b09e-b9fc47baa5bf",
   "metadata": {
    "scrolled": true,
    "tags": []
   },
   "outputs": [],
   "source": [
    "# fit the model\n",
    "lasso_grid_model.fit(X_train, y_train)"
   ]
  },
  {
   "cell_type": "code",
   "execution_count": null,
   "id": "a66c6d71-e62b-4a06-87ae-0d2677f2bbdc",
   "metadata": {},
   "outputs": [],
   "source": [
    "# what are the best estimators for lasso:\n",
    "lasso_grid_model.best_estimator_"
   ]
  },
  {
   "cell_type": "code",
   "execution_count": null,
   "id": "207697d5-3b3a-42ce-b909-26e9994737a8",
   "metadata": {},
   "outputs": [],
   "source": [
    "lasso_grid_model.best_params_"
   ]
  },
  {
   "cell_type": "code",
   "execution_count": null,
   "id": "8043dee8-8a77-4a52-b100-16c5cb0b924d",
   "metadata": {},
   "outputs": [],
   "source": [
    "# check RMSE for train and test data\n",
    "pd.DataFrame(lasso_grid_model.cv_results_).loc[lasso_grid_model.best_index_, [\"mean_test_score\", \"mean_train_score\"]]"
   ]
  },
  {
   "cell_type": "code",
   "execution_count": null,
   "id": "0bd63b48-4085-4a12-a480-f197b74346d5",
   "metadata": {},
   "outputs": [],
   "source": [
    "# compare the eval metrics for train and test data\n",
    "train_val(lasso_grid_model, X_train, y_train, X_test, y_test)\n",
    "# similar scores with default lasso"
   ]
  },
  {
   "cell_type": "code",
   "execution_count": null,
   "id": "1c4760a6-f0b3-4f00-9be1-65d181f877a1",
   "metadata": {},
   "outputs": [],
   "source": [
    "# assign the metrics to variable to compare with the scores of other algorithms\n",
    "y_pred = lasso_grid_model.predict(X_test)\n",
    "lasm_R2 = r2_score(y_test, y_pred)\n",
    "lasm_mae = mean_absolute_error(y_test, y_pred)\n",
    "lasm_rmse = mean_squared_error(y_test, y_pred, squared=False)"
   ]
  },
  {
   "cell_type": "code",
   "execution_count": null,
   "id": "6a80ac18-d8f8-4582-b2b9-4bc28e346814",
   "metadata": {},
   "outputs": [],
   "source": [
    "# check the coefficients of the features\n",
    "df_feat_imp = pd.DataFrame(data=lasso_grid_model.best_estimator_[\"Lasso\"].coef_, \n",
    "                           index=lasso_grid_model.best_estimator_[\"OneHot_Ordinal_Encoder\"].get_feature_names_out(),\n",
    "                           columns=[\"Coef\"]).sort_values(\"Coef\")"
   ]
  },
  {
   "cell_type": "markdown",
   "id": "6a3fd3e8-07a2-49e2-80d5-4d61b6996e80",
   "metadata": {},
   "source": [
    "## 5.3 Modelling with most important features for LASSO"
   ]
  },
  {
   "cell_type": "code",
   "execution_count": null,
   "id": "8682264c-48e7-4aff-8fe8-73075fcdd516",
   "metadata": {},
   "outputs": [],
   "source": [
    "# visualize feature importance for lasso\n",
    "plt.figure(figsize=(10,14))\n",
    "sns.barplot(data= df_feat_imp, \n",
    "            x=df_feat_imp.Coef, \n",
    "            y=df_feat_imp.index);"
   ]
  },
  {
   "cell_type": "code",
   "execution_count": null,
   "id": "cf0cebac-1636-4a5d-bc63-7a97999bed6a",
   "metadata": {},
   "outputs": [],
   "source": [
    "from yellowbrick.model_selection import FeatureImportances\n",
    "from yellowbrick.features import RadViz\n",
    "\n",
    "model = lasso_grid_model.best_estimator_[\"Lasso\"]\n",
    "\n",
    "viz = FeatureImportances(model, \n",
    "                         labels=lasso_grid_model.best_estimator_[\"OneHot_Ordinal_Encoder\"].get_feature_names_out())\n",
    "\n",
    "visualizer = RadViz(size=(720, 3000))\n",
    "viz.fit(X_train, y_train)\n",
    "viz.show();"
   ]
  },
  {
   "cell_type": "markdown",
   "id": "fc31a65d-732e-4b8e-93fc-a5827f203507",
   "metadata": {},
   "source": [
    "\n",
    "**create a new dataset with the most important features for lasso**"
   ]
  },
  {
   "cell_type": "code",
   "execution_count": null,
   "id": "63c8d1d3-d00b-496c-b77a-c7c466a1d7e0",
   "metadata": {},
   "outputs": [],
   "source": [
    "# create new df according to the most important features\n",
    "df_new = df[[\"make_model\", \"age\",\"hp_kW\", \"km\", \"Type\", \"Gearing_Type\", \"price\"]]\n"
   ]
  },
  {
   "cell_type": "code",
   "execution_count": null,
   "id": "78727ca5-bdd8-4aaa-aa98-37a1b7c2026d",
   "metadata": {},
   "outputs": [],
   "source": [
    "# preprocessing\n",
    "X = df_new.drop(columns = [\"price\"])\n",
    "y = df_new.price"
   ]
  },
  {
   "cell_type": "code",
   "execution_count": null,
   "id": "762c7db2-6f09-400d-bed8-39c9e0c000b4",
   "metadata": {},
   "outputs": [],
   "source": [
    "# split the data\n",
    "X_train, X_test, y_train, y_test = train_test_split(X, y, test_size=0.2, random_state=42)"
   ]
  },
  {
   "cell_type": "code",
   "execution_count": null,
   "id": "891219c8-7d4f-41bf-9c7f-6c7b9addb218",
   "metadata": {},
   "outputs": [],
   "source": [
    "# separate the features as categorical and ordinal features\n",
    "\n",
    "cat_onehot  = [\"make_model\", \"Gearing_Type\"]\n",
    "cat_ordinal = ['Type']\n",
    "    \n",
    "# define the order for each category in ordinal categorical fatures\n",
    "cat_for_type = [\"Used\", \"Employee's car\", \"Demonstration\", \"Pre-registered\", \"New\"]\n",
    "\n",
    "column_trans = make_column_transformer((OneHotEncoder(handle_unknown=\"ignore\", sparse_output=False), cat_onehot),\n",
    "                                       (OrdinalEncoder(categories= [cat_for_type]), cat_ordinal),\n",
    "                                        remainder='passthrough',\n",
    "                                        verbose_feature_names_out=False)"
   ]
  },
  {
   "cell_type": "code",
   "execution_count": null,
   "id": "bd88f26e-b163-4a80-8f22-aa9239c08862",
   "metadata": {},
   "outputs": [],
   "source": [
    "operations = [(\"OneHot_Ordinal_Encoder\", column_trans), \n",
    "              (\"scaler\", MinMaxScaler()), \n",
    "              (\"Lasso\", Lasso(alpha=1))] # with best alpha\n",
    "\n",
    "lasso_final_model = Pipeline(steps=operations)\n",
    "\n",
    "lasso_final_model.fit(X_train, y_train)\n",
    "train_val(lasso_final_model, X_train, y_train, X_test, y_test)\n"
   ]
  },
  {
   "cell_type": "raw",
   "id": "bf619562-35e8-45d1-bf38-139b80a15271",
   "metadata": {},
   "source": [
    " - comparison with lasso 40 features\n",
    "\n",
    "\ttrain\ttest\n",
    "R2\t0.868\t0.864\n",
    "mae\t1787.688\t1792.151\n",
    "mse\t6326029.751\t6285511.904\n",
    "rmse\t2515.160\t2507.092\n",
    "\n",
    "\n",
    "**result** the scores are close to each other for lasso with 40 features and lasso with 6 features"
   ]
  },
  {
   "cell_type": "code",
   "execution_count": null,
   "id": "8670d320-b8ee-4ca2-9402-705eaa676e58",
   "metadata": {},
   "outputs": [],
   "source": [
    "# cross validation\n",
    "operations = [(\"OneHot_Ordinal_Encoder\", column_trans), \n",
    "              (\"scaler\", MinMaxScaler()), \n",
    "              (\"Lasso\", Lasso(alpha=1))]\n",
    "\n",
    "model = Pipeline(steps=operations)\n",
    "\n",
    "scores_lasso_final_model = cross_validate(model, X_train, y_train,\n",
    "                        scoring=['r2', \n",
    "                                 'neg_mean_absolute_error',\n",
    "                                 'neg_mean_squared_error',\n",
    "                                 'neg_root_mean_squared_error'],\n",
    "                        cv=5, \n",
    "                        return_train_score=True)"
   ]
  },
  {
   "cell_type": "code",
   "execution_count": null,
   "id": "fc52f567-5d52-4611-af84-925c8bb8f5cf",
   "metadata": {},
   "outputs": [],
   "source": [
    "scores_lasso_final_model = pd.DataFrame(scores_lasso_final_model, index = range(1, 6))\n",
    "scores_lasso_final_model.iloc[:,2:].mean()\n",
    "# no overfitting"
   ]
  },
  {
   "cell_type": "code",
   "execution_count": null,
   "id": "ca614299-3a9f-4778-824a-1d0a432098f4",
   "metadata": {},
   "outputs": [],
   "source": [
    "# assign metrics to variables\n",
    "y_pred = lasso_final_model.predict(X_test)\n",
    "fm_R2 = r2_score(y_test, y_pred)\n",
    "fm_mae = mean_absolute_error(y_test, y_pred)\n",
    "fm_rmse = mean_squared_error(y_test, y_pred,squared=False)"
   ]
  },
  {
   "cell_type": "code",
   "execution_count": null,
   "id": "6ec7f0fa-911e-4adc-9ea9-5aeb002192b1",
   "metadata": {},
   "outputs": [],
   "source": []
  },
  {
   "cell_type": "markdown",
   "id": "253a9255-ea67-4c26-ac92-3de704269ef2",
   "metadata": {},
   "source": [
    "# 6. RANDOM FOREST"
   ]
  },
  {
   "cell_type": "code",
   "execution_count": null,
   "id": "953348cc-8432-4b62-948a-d07148778e39",
   "metadata": {},
   "outputs": [],
   "source": [
    "X=df.drop(\"price\", axis=1)\n",
    "y=df.price"
   ]
  },
  {
   "cell_type": "code",
   "execution_count": null,
   "id": "26158b81-2583-49a5-bcaf-df308ea444d1",
   "metadata": {},
   "outputs": [],
   "source": [
    "X_train,X_test,y_train,y_test=train_test_split(X,y,test_size=0.2, random_state=5)"
   ]
  },
  {
   "cell_type": "code",
   "execution_count": null,
   "id": "d417993f-1059-4b2b-bcba-d5d1ab841b19",
   "metadata": {},
   "outputs": [],
   "source": [
    "# modelling with pipeline\n",
    "cat = X.select_dtypes(\"object\").columns\n",
    "cat"
   ]
  },
  {
   "cell_type": "code",
   "execution_count": null,
   "id": "5377ae65-8abe-46df-b47e-02f246c30cc8",
   "metadata": {},
   "outputs": [],
   "source": [
    "from sklearn.compose import make_column_transformer\n",
    "from sklearn.preprocessing import OneHotEncoder, OrdinalEncoder\n",
    "\n",
    "ord_enc = OrdinalEncoder(handle_unknown='use_encoded_value', \n",
    "                         unknown_value=-1)\n",
    "\n",
    "column_trans = make_column_transformer((ord_enc, cat), \n",
    "                                        remainder='passthrough',\n",
    "                                        verbose_feature_names_out=False).set_output(transform=\"pandas\")"
   ]
  },
  {
   "cell_type": "code",
   "execution_count": null,
   "id": "8bd7a79d-6cc4-46ab-9255-834678de9a76",
   "metadata": {},
   "outputs": [],
   "source": [
    "from sklearn.ensemble import RandomForestRegressor\n",
    "from sklearn.pipeline import Pipeline\n",
    "\n",
    "\n",
    "operations = [(\"OrdinalEncoder\", column_trans), \n",
    "              (\"RF_model\", RandomForestRegressor(random_state=101))]\n",
    "\n",
    "pipe_model = Pipeline(steps=operations)\n",
    "\n",
    "pipe_model.fit(X_train, y_train)"
   ]
  },
  {
   "cell_type": "code",
   "execution_count": null,
   "id": "d7bd40b5-c72f-4247-9198-7eb2f47f9b75",
   "metadata": {},
   "outputs": [],
   "source": [
    "train_val(pipe_model, X_train, y_train, X_test, y_test)\n",
    "# default RF performs very better than lin reg or lasso"
   ]
  },
  {
   "cell_type": "code",
   "execution_count": null,
   "id": "7ffe9754-9a9f-4192-aa7b-f8f4dc3228ed",
   "metadata": {},
   "outputs": [],
   "source": [
    "# check overfitting via cv \n",
    "operations = [(\"OrdinalEncoder\", column_trans), \n",
    "              (\"RF_model\", RandomForestRegressor(random_state=101))]\n",
    "\n",
    "model = Pipeline(steps=operations)\n",
    "\n",
    "scores = cross_validate(model, \n",
    "                        X_train, \n",
    "                        y_train, \n",
    "                        scoring=['r2',\n",
    "                                 'neg_mean_absolute_error',\n",
    "                                 'neg_mean_squared_error',\n",
    "                                 'neg_root_mean_squared_error'],\n",
    "                        cv =5,\n",
    "                        return_train_score=True)\n",
    "df_scores = pd.DataFrame(scores)\n",
    "df_scores.mean()[2:]\n",
    "\n",
    "# error in test data is higer; R2 is lower for test data. overfit. "
   ]
  },
  {
   "cell_type": "code",
   "execution_count": null,
   "id": "379120c5-067b-4646-b017-f181f8d678aa",
   "metadata": {},
   "outputs": [],
   "source": [
    "# gridsearch to avoid overfitting\n",
    "operations = [(\"OrdinalEncoder\", column_trans),\n",
    "              (\"RF_model\", RandomForestRegressor(random_state=101))]\n",
    "\n",
    "model = Pipeline(steps=operations)"
   ]
  },
  {
   "cell_type": "code",
   "execution_count": null,
   "id": "3aedd1d7-85a7-48d7-85b0-3257f1a56e42",
   "metadata": {},
   "outputs": [],
   "source": [
    "param_grid = {\"RF_model__criterion\":[\"squared_error\", \"absolute_error\"],  # \"poisson\"\n",
    "              \"RF_model__n_estimators\":[250, 500],\n",
    "              \"RF_model__max_depth\": [1, 2],\n",
    "              \"RF_model__min_samples_leaf\": [1, 2, 3],  # values lower than 3 to avoid overfitting\n",
    "              \"RF_model__min_samples_split\": [2, 3, 5],\n",
    "              \"RF_model__max_features\":[1.0, X.shape[1]/3, 6]}  # None, auto, 1.0 all same"
   ]
  },
  {
   "cell_type": "code",
   "execution_count": null,
   "id": "6e893203-509b-4681-8851-562cc003b1c8",
   "metadata": {
    "scrolled": true,
    "tags": []
   },
   "outputs": [],
   "source": [
    "from sklearn.model_selection import GridSearchCV\n",
    "\n",
    "grid_model = GridSearchCV(estimator=model,\n",
    "                          param_grid=param_grid,\n",
    "                          scoring='neg_root_mean_squared_error',\n",
    "                          cv=5,\n",
    "                          n_jobs=-1,\n",
    "                          return_train_score=True)\n",
    "grid_model.fit(X_train,y_train)"
   ]
  },
  {
   "cell_type": "code",
   "execution_count": null,
   "id": "ef2567a0-a48b-42ad-83e6-b3910d339ef0",
   "metadata": {},
   "outputs": [],
   "source": [
    "grid_model.best_estimator_"
   ]
  },
  {
   "cell_type": "code",
   "execution_count": null,
   "id": "01c8e588-9d0f-481a-a3e3-43476fa4673d",
   "metadata": {},
   "outputs": [],
   "source": [
    "pd.DataFrame(grid_model.cv_results_).loc[grid_model.best_index_, [\"mean_test_score\", \"mean_train_score\"]]\n"
   ]
  },
  {
   "cell_type": "code",
   "execution_count": null,
   "id": "8fa1cecd-991b-4cd1-92be-ab727d07e900",
   "metadata": {},
   "outputs": [],
   "source": [
    "train_val(grid_model, X_train, y_train, X_test, y_test)"
   ]
  },
  {
   "cell_type": "code",
   "execution_count": null,
   "id": "623adecd-12fc-4d95-94ea-19c6c292d251",
   "metadata": {
    "tags": []
   },
   "outputs": [],
   "source": [
    "# cross val\n",
    "operations = [(\"OrdinalEncoder\", column_trans), \n",
    "              (\"RF_model\", RandomForestRegressor(max_depth=8, \n",
    "                                                 max_features=6, \n",
    "                                                 min_samples_leaf=3,\n",
    "                                                 n_estimators=350,\n",
    "                                                 random_state=101))]\n",
    "\n",
    "model = Pipeline(steps=operations)\n",
    "\n",
    "scores = cross_validate(model,\n",
    "                        X_train, \n",
    "                        y_train, \n",
    "                        scoring=['r2',\n",
    "                                 'neg_mean_absolute_error',\n",
    "                                 'neg_mean_squared_error',\n",
    "                                 'neg_root_mean_squared_error'], \n",
    "                        cv = 5,\n",
    "                        return_train_score=True)\n",
    "\n",
    "df_scores = pd.DataFrame(scores, index=range(1,6))\n",
    "df_scores.mean()[2:]"
   ]
  },
  {
   "cell_type": "markdown",
   "id": "36eb24d8-f53b-46e5-afde-44988bf52517",
   "metadata": {},
   "source": [
    "**Feature Importance**"
   ]
  },
  {
   "cell_type": "code",
   "execution_count": null,
   "id": "cc81303d-e509-47a7-beeb-32bd31567a51",
   "metadata": {},
   "outputs": [],
   "source": [
    "# IMPORTANT: with the best hyperparameters from gridsearchcv\n",
    "operations = [(\"OrdinalEncoder\", column_trans), \n",
    "              (\"RF_model\", RandomForestRegressor(max_depth=8,\n",
    "                                                 max_features=6,\n",
    "                                                 min_samples_leaf=3, \n",
    "                                                 n_estimators=350,\n",
    "                                                 random_state=101))]\n",
    "\n",
    "pipe_model = Pipeline(steps=operations)\n",
    "\n",
    "pipe_model.fit(X_train, y_train)"
   ]
  },
  {
   "cell_type": "code",
   "execution_count": null,
   "id": "ef5bc8bc-ead7-4690-847e-8d67b75dcebe",
   "metadata": {},
   "outputs": [],
   "source": [
    "features = pipe_model[\"OrdinalEncoder\"].get_feature_names_out()\n",
    "features"
   ]
  },
  {
   "cell_type": "code",
   "execution_count": null,
   "id": "1b9a3f43-d813-4000-9526-f24142a39183",
   "metadata": {},
   "outputs": [],
   "source": [
    "df_f_i = pd.DataFrame(data=pipe_model[\"RF_model\"].feature_importances_, \n",
    "                      index=features,\n",
    "                      columns=[\"Feature Importance\"])\n",
    "df_f_i = df_f_i.sort_values(\"Feature Importance\", ascending=False)\n",
    "df_f_i"
   ]
  },
  {
   "cell_type": "markdown",
   "id": "c5c9c139-9808-4524-bf5d-a0013f539bcd",
   "metadata": {},
   "source": [
    "**Feature selection**"
   ]
  },
  {
   "cell_type": "code",
   "execution_count": null,
   "id": "77797176-d59f-418e-a335-d518a9507e41",
   "metadata": {},
   "outputs": [],
   "source": [
    "X2 = X[[\"hp_kW\", \"age\", \"Gears\", \"make_model\", \"km\"]]\n",
    "X2.head()\n",
    "\n",
    "# en kuvvetli ilk 5 feature seçiyoruz."
   ]
  },
  {
   "cell_type": "code",
   "execution_count": null,
   "id": "815e27fa-89bc-4a4d-85ab-e38e94f0f1f5",
   "metadata": {},
   "outputs": [],
   "source": [
    "X_train,X_test,y_train,y_test=train_test_split(X2, y, test_size=0.2, random_state=5)\n",
    "\n",
    "# Yeni datamıza göre train ve test datamızı tekrar belirliyoruz."
   ]
  },
  {
   "cell_type": "code",
   "execution_count": null,
   "id": "f3a4fdf7-4d1d-44ec-93e7-c92cd63e42db",
   "metadata": {},
   "outputs": [],
   "source": [
    "cat2 = [\"make_model\"]\n",
    "\n",
    "ord_enc = OrdinalEncoder(handle_unknown='use_encoded_value', unknown_value=-1)\n",
    "\n",
    "column_trans = make_column_transformer((ord_enc, cat2), \n",
    "                                        remainder='passthrough',\n",
    "                                        verbose_feature_names_out=False).set_output(transform=\"pandas\")\n",
    "\n",
    "\n",
    "operations = [(\"OrdinalEncoder\", column_trans),\n",
    "              (\"RF_model\", RandomForestRegressor(max_depth=8, # best hyperparameters from gridsearch\n",
    "                                                 max_features=5, \n",
    "                                                 min_samples_leaf=3, \n",
    "                                                 n_estimators=350,\n",
    "                                                 random_state=101))]\n",
    "\n",
    "pipe_model = Pipeline(steps=operations)\n",
    "pipe_model.fit(X_train,y_train)\n",
    "train_val(pipe_model, X_train, y_train, X_test, y_test)\n",
    "\n",
    "# 5 feature ile benzer skorlar aldık."
   ]
  },
  {
   "cell_type": "code",
   "execution_count": null,
   "id": "612b3d74-019c-4062-b3fe-70227c67f53e",
   "metadata": {},
   "outputs": [],
   "source": [
    "operations = [(\"OrdinalEncoder\", column_trans),\n",
    "              (\"RF_model\", RandomForestRegressor(max_depth=8,\n",
    "                                                 max_features=5, \n",
    "                                                 min_samples_leaf=3, \n",
    "                                                 n_estimators=350,\n",
    "                                                 random_state=101))]\n",
    "\n",
    "model = Pipeline(steps=operations)\n",
    "scores = cross_validate(model,\n",
    "                        X_train, \n",
    "                        y_train, \n",
    "                        scoring=['r2',\n",
    "                                 'neg_mean_absolute_error',\n",
    "                                 'neg_mean_squared_error',\n",
    "                                 'neg_root_mean_squared_error'], \n",
    "                        cv = 5,\n",
    "                        return_train_score=True)\n",
    "\n",
    "df_scores = pd.DataFrame(scores, index=range(1,6))\n",
    "df_scores.mean()[2:]\n",
    "\n",
    "# no overfitting"
   ]
  },
  {
   "cell_type": "code",
   "execution_count": null,
   "id": "4ee49677-1569-43ef-b7de-50cdd2d5128f",
   "metadata": {},
   "outputs": [],
   "source": [
    "# avg error for test data\n",
    "2088 / np.mean(y)"
   ]
  },
  {
   "cell_type": "code",
   "execution_count": null,
   "id": "462ebd83-c1b7-40f8-972d-586937ffee71",
   "metadata": {},
   "outputs": [],
   "source": [
    "# avg error for train data\n",
    "1921/np.mean(y)"
   ]
  },
  {
   "cell_type": "markdown",
   "id": "345acb07-eb9c-4d5b-92c4-383ce1e590d1",
   "metadata": {},
   "source": [
    "# 6. XGBOOST"
   ]
  },
  {
   "cell_type": "code",
   "execution_count": null,
   "id": "3d6018d0-aaaa-4e67-938a-d16390512028",
   "metadata": {},
   "outputs": [],
   "source": [
    "df.to_csv('for_xgboost.csv', index=False)"
   ]
  },
  {
   "cell_type": "code",
   "execution_count": null,
   "id": "92288900-a024-42cb-8390-32b60643aa6f",
   "metadata": {},
   "outputs": [],
   "source": [
    "X=df.drop(\"price\", axis=1)\n",
    "y=df.price"
   ]
  },
  {
   "cell_type": "code",
   "execution_count": null,
   "id": "6f170534-9c2e-41f2-b744-66958f6810fd",
   "metadata": {},
   "outputs": [],
   "source": [
    "X_train,X_test,y_train,y_test=train_test_split(X,y,test_size=0.2, random_state=5)"
   ]
  },
  {
   "cell_type": "code",
   "execution_count": null,
   "id": "72474e75-f495-404b-ba8f-4a60e1627b5e",
   "metadata": {},
   "outputs": [],
   "source": [
    "# modelling with pipeline\n",
    "cat = X.select_dtypes(\"object\").columns\n",
    "cat"
   ]
  },
  {
   "cell_type": "code",
   "execution_count": null,
   "id": "74b2091a-da99-4040-a6ba-9c8f03407df3",
   "metadata": {},
   "outputs": [],
   "source": [
    "from sklearn.compose import make_column_transformer\n",
    "from sklearn.preprocessing import OneHotEncoder, OrdinalEncoder\n",
    "\n",
    "ord_enc = OrdinalEncoder(handle_unknown='use_encoded_value', \n",
    "                         unknown_value=-1)\n",
    "\n",
    "column_trans = make_column_transformer((ord_enc, cat), \n",
    "                                        remainder='passthrough',\n",
    "                                        verbose_feature_names_out=False).set_output(transform=\"pandas\")\n"
   ]
  },
  {
   "cell_type": "code",
   "execution_count": null,
   "id": "7e80a496-7f27-4047-9998-a3c84c0b8f45",
   "metadata": {},
   "outputs": [],
   "source": [
    "from xgboost import XGBRegressor\n",
    "\n",
    "operations = [(\"OrdinalEncoder\", column_trans), \n",
    "              (\"XGB_model\", XGBRegressor(random_state=101))]\n",
    "\n",
    "pipe_model = Pipeline(steps=operations)\n",
    "\n",
    "pipe_model.fit(X_train, y_train)"
   ]
  },
  {
   "cell_type": "code",
   "execution_count": null,
   "id": "5c6513c2-e8b1-4c12-8f57-97766c98f737",
   "metadata": {},
   "outputs": [],
   "source": [
    "train_val(pipe_model, X_train, y_train, X_test, y_test)\n",
    "# trains and test rmse : overfitting"
   ]
  },
  {
   "cell_type": "code",
   "execution_count": null,
   "id": "ba182a8e-e5ea-4c33-9610-6c7780af6ba4",
   "metadata": {},
   "outputs": [],
   "source": [
    "\n",
    "# cross val\n",
    "operations = [(\"OrdinalEncoder\", column_trans), \n",
    "              (\"XGB_model\", XGBRegressor(random_state=101))]\n",
    "\n",
    "model = Pipeline(steps=operations)\n",
    "\n",
    "scores = cross_validate(model,\n",
    "                        X_train,\n",
    "                        y_train, \n",
    "                        scoring=['r2', \n",
    "                                 'neg_mean_absolute_error',\n",
    "                                 'neg_mean_squared_error',\n",
    "                                 'neg_root_mean_squared_error'],\n",
    "                        cv =5,\n",
    "                        return_train_score=True)\n",
    "pd.DataFrame(scores).iloc[:, 2:].mean()\n",
    "\n",
    "# overfiting"
   ]
  },
  {
   "cell_type": "markdown",
   "id": "8809ca03-b208-4f1d-810e-b650fe248b12",
   "metadata": {},
   "source": [
    "### Gridsearch for XGBoost"
   ]
  },
  {
   "cell_type": "code",
   "execution_count": null,
   "id": "6b49d69c-984f-4364-87a7-4de673762902",
   "metadata": {},
   "outputs": [],
   "source": [
    "param_grid = {\"XGB_model__n_estimators\":[75,100,150],\n",
    "              \"XGB_model__max_depth\":[6,7], \n",
    "              \"XGB_model__learning_rate\": [0.09, 0.1],\n",
    "              \"XGB_model__subsample\": [0.8, 0.9], \n",
    "              \"XGB_model__colsample_bytree\":[0.8],\n",
    "              \"XGB_model__colsample_bylevel\":[1]\n",
    "              }"
   ]
  },
  {
   "cell_type": "code",
   "execution_count": null,
   "id": "b1b13bb4-1958-43fb-8218-ef202445a255",
   "metadata": {},
   "outputs": [],
   "source": [
    "operations = [(\"OrdinalEncoder\", column_trans),\n",
    "              (\"XGB_model\", XGBRegressor(random_state=101))]\n",
    "\n",
    "model = Pipeline(steps=operations)\n",
    "\n",
    "grid_model = GridSearchCV(estimator=model,\n",
    "                          param_grid=param_grid,\n",
    "                          scoring='neg_root_mean_squared_error',\n",
    "                          cv=5,\n",
    "                          n_jobs=-1,\n",
    "                          return_train_score=True)"
   ]
  },
  {
   "cell_type": "code",
   "execution_count": null,
   "id": "a9df899e-345d-4828-ace8-24d19473be6d",
   "metadata": {},
   "outputs": [],
   "source": [
    "grid_model.fit(X_train, y_train)"
   ]
  },
  {
   "cell_type": "code",
   "execution_count": null,
   "id": "6fa2b5df-eb8c-4580-a72a-96cc164da7bb",
   "metadata": {},
   "outputs": [],
   "source": [
    "grid_model.best_params_"
   ]
  },
  {
   "cell_type": "code",
   "execution_count": null,
   "id": "1222d4bf-65a3-42b4-9b82-48726e63f122",
   "metadata": {},
   "outputs": [],
   "source": [
    "grid_model.best_estimator_"
   ]
  },
  {
   "cell_type": "code",
   "execution_count": null,
   "id": "bdadba1d-a2d3-44df-a65e-1b433c8f4548",
   "metadata": {},
   "outputs": [],
   "source": [
    "pd.DataFrame(grid_model.cv_results_).loc[grid_model.best_index_, [\"mean_test_score\", \"mean_train_score\"]]\n",
    "\n",
    "# overfiting"
   ]
  },
  {
   "cell_type": "code",
   "execution_count": null,
   "id": "0fe0877e-ad82-4b38-adbc-ea5107e9a21c",
   "metadata": {},
   "outputs": [],
   "source": [
    "prediction = grid_model.predict(X_test)\n",
    "\n",
    "xgb_rmse = mean_squared_error(y_test, prediction, squared=False)\n",
    "\n",
    "train_val(grid_model, X_train, y_train, X_test, y_test)\n",
    "\n",
    "# rmse difference is too high for test and train data"
   ]
  },
  {
   "cell_type": "markdown",
   "id": "c3cc9c71-5950-4b52-9b92-9be254bb2a66",
   "metadata": {},
   "source": [
    "**Feature importance**"
   ]
  },
  {
   "cell_type": "code",
   "execution_count": null,
   "id": "736e3c14-c1d8-4294-986e-c47c6d184adc",
   "metadata": {},
   "outputs": [],
   "source": [
    "operations = [(\"OrdinalEncoder\", column_trans), \n",
    "              (\"XGB_model\", XGBRegressor(n_estimators=150,\n",
    "                                         learning_rate=0.09, \n",
    "                                         max_depth=7,\n",
    "                                         subsample=0.8, \n",
    "                                         random_state=101))]\n",
    "\n",
    "pipe_model = Pipeline(steps=operations)\n",
    "\n",
    "pipe_model.fit(X_train, y_train)"
   ]
  },
  {
   "cell_type": "code",
   "execution_count": null,
   "id": "a37ba31c-3d4f-4504-8b5d-e6e8191f6792",
   "metadata": {},
   "outputs": [],
   "source": [
    "features"
   ]
  },
  {
   "cell_type": "code",
   "execution_count": null,
   "id": "f9763431-c85d-44a9-9a31-21a01d72550f",
   "metadata": {},
   "outputs": [],
   "source": [
    "imp_feats = pd.DataFrame(data=pipe_model[\"XGB_model\"].feature_importances_,\n",
    "                         columns=['xgb_Importance'],\n",
    "                         index=features)\n",
    "\n",
    "xgb_imp_feats = imp_feats.sort_values('xgb_Importance', ascending=False)\n",
    "xgb_imp_feats"
   ]
  },
  {
   "cell_type": "code",
   "execution_count": null,
   "id": "a8b1b2bf-0d5a-4566-9d33-125b4b5f4443",
   "metadata": {},
   "outputs": [],
   "source": [
    "ax = sns.barplot(data=xgb_imp_feats, \n",
    "                 x=xgb_imp_feats.index, \n",
    "                 y='xgb_Importance')\n",
    "\n",
    "ax.bar_label(ax.containers[0],fmt=\"%.3f\")\n",
    "plt.xticks(rotation=90);"
   ]
  },
  {
   "cell_type": "code",
   "execution_count": null,
   "id": "36c5cb3c-a0f2-466f-83ef-1d6215b6bbac",
   "metadata": {},
   "outputs": [],
   "source": [
    "df_xg = df[[\"hp_kW\", \"age\",\"make_model\", \"Gears\", \"Gearing_Type\", \"price\"]]"
   ]
  },
  {
   "cell_type": "code",
   "execution_count": null,
   "id": "693d8cf7-273b-4d14-8a59-c509a23ae27d",
   "metadata": {},
   "outputs": [],
   "source": [
    "X=df_xg.drop(\"price\", axis=1)\n",
    "y=df_xg.price"
   ]
  },
  {
   "cell_type": "code",
   "execution_count": null,
   "id": "ad10b7a4-e649-4110-b2b8-bf8b175221c0",
   "metadata": {},
   "outputs": [],
   "source": [
    "X_train,X_test,y_train,y_test=train_test_split(X,y,test_size=0.2, random_state=5)"
   ]
  },
  {
   "cell_type": "code",
   "execution_count": null,
   "id": "f7ff73e2-9d60-495d-b7b1-b14a6464ab95",
   "metadata": {},
   "outputs": [],
   "source": [
    "# modelling with pipeline\n",
    "cat = X.select_dtypes(\"object\").columns\n",
    "cat"
   ]
  },
  {
   "cell_type": "code",
   "execution_count": null,
   "id": "0842c7b7-accf-4c12-ab58-c9523843b5a2",
   "metadata": {},
   "outputs": [],
   "source": [
    "ord_enc = OrdinalEncoder(handle_unknown='use_encoded_value', \n",
    "                         unknown_value=-1)\n",
    "\n",
    "column_trans = make_column_transformer((ord_enc, cat), \n",
    "                                        remainder='passthrough',\n",
    "                                        verbose_feature_names_out=False).set_output(transform=\"pandas\")"
   ]
  },
  {
   "cell_type": "code",
   "execution_count": null,
   "id": "a996e36f-bfc5-48a5-a8c2-6c85d185402b",
   "metadata": {},
   "outputs": [],
   "source": [
    "operations = [(\"OrdinalEncoder\", column_trans), \n",
    "              (\"XGB_model\", XGBRegressor(n_estimators=150,\n",
    "                                         learning_rate=0.09, \n",
    "                                         max_depth=6,\n",
    "                                         subsample=0.8, \n",
    "                                         random_state=101))]\n",
    "\n",
    "pipe_model = Pipeline(steps=operations)\n",
    "\n",
    "pipe_model.fit(X_train, y_train)"
   ]
  },
  {
   "cell_type": "code",
   "execution_count": null,
   "id": "f3f639c3-9796-4dbe-92c4-f320eaecf3de",
   "metadata": {},
   "outputs": [],
   "source": [
    "train_val(pipe_model, X_train, y_train, X_test, y_test)\n",
    "# no overfitting"
   ]
  },
  {
   "cell_type": "code",
   "execution_count": null,
   "id": "94082702-fa0f-4f80-a1fe-3ac6390c6531",
   "metadata": {},
   "outputs": [],
   "source": [
    "# cross val\n",
    "operations = [(\"OrdinalEncoder\", column_trans), \n",
    "              (\"XGB_model\", XGBRegressor(n_estimators=150,\n",
    "                                         learning_rate=0.09, \n",
    "                                         max_depth=6,\n",
    "                                         subsample=0.8, \n",
    "                                         random_state=101))]\n",
    "\n",
    "model = Pipeline(steps=operations)\n",
    "\n",
    "scores = cross_validate(model,\n",
    "                        X_train,\n",
    "                        y_train, \n",
    "                        scoring=['r2', \n",
    "                                 'neg_mean_absolute_error',\n",
    "                                 'neg_mean_squared_error',\n",
    "                                 'neg_root_mean_squared_error'],\n",
    "                        cv =5,\n",
    "                        return_train_score=True)\n",
    "pd.DataFrame(scores).iloc[:, 2:].mean()\n"
   ]
  },
  {
   "cell_type": "code",
   "execution_count": null,
   "id": "371a731f-6c1c-415d-993b-9d95f6ca1216",
   "metadata": {},
   "outputs": [],
   "source": [
    "1900/np.mean(y)\n",
    "# test data, avg error"
   ]
  },
  {
   "cell_type": "code",
   "execution_count": null,
   "id": "cfc4baf7-12fa-4672-9948-bea266ee541b",
   "metadata": {},
   "outputs": [],
   "source": [
    "1794 / np.mean(y)\n",
    "# avg error for train data"
   ]
  },
  {
   "cell_type": "markdown",
   "id": "8a81222c-02b7-4755-a281-894ef349998c",
   "metadata": {},
   "source": [
    "# 7. Final MOdel"
   ]
  },
  {
   "cell_type": "markdown",
   "id": "6b625d1b-99df-423e-ba7a-5eb27f87fd60",
   "metadata": {},
   "source": [
    "Random Forest with 5 features"
   ]
  },
  {
   "cell_type": "code",
   "execution_count": null,
   "id": "217388e3-015e-47ac-a2e1-a95fb3a60a88",
   "metadata": {},
   "outputs": [],
   "source": [
    "X=df_xg.drop(\"price\", axis=1)\n",
    "y=df_xg.price"
   ]
  },
  {
   "cell_type": "code",
   "execution_count": null,
   "id": "4a7d8699-2aae-4f00-a50f-08e921fc0ce4",
   "metadata": {},
   "outputs": [],
   "source": [
    "# modelling with pipeline\n",
    "cat = X.select_dtypes(\"object\").columns\n",
    "\n",
    "ord_enc = OrdinalEncoder(handle_unknown='use_encoded_value', \n",
    "                         unknown_value=-1)\n",
    "\n",
    "column_trans = make_column_transformer((ord_enc, cat), \n",
    "                                        remainder='passthrough',\n",
    "                                        verbose_feature_names_out=False).set_output(transform=\"pandas\")\n",
    "\n",
    "operations = [(\"OrdinalEncoder\", column_trans), \n",
    "              (\"XGB_model\", XGBRegressor(n_estimators=150,\n",
    "                                         learning_rate=0.09, \n",
    "                                         max_depth=6,\n",
    "                                         subsample=0.8, \n",
    "                                         random_state=101))]\n",
    "\n",
    "final_model = Pipeline(steps=operations)\n",
    "\n",
    "final_model.fit(X, y)"
   ]
  },
  {
   "cell_type": "code",
   "execution_count": null,
   "id": "6f04ae8b-7b5e-4bf8-a5fb-baf7e58e3b85",
   "metadata": {},
   "outputs": [],
   "source": [
    "final_model[\"OrdinalEncoder\"].fit_transform(X).head()"
   ]
  },
  {
   "cell_type": "code",
   "execution_count": null,
   "id": "454df497-091e-4aff-9cc0-113fe42c0c45",
   "metadata": {},
   "outputs": [],
   "source": [
    "X"
   ]
  },
  {
   "cell_type": "markdown",
   "id": "c387b9dc-2874-4765-9ddf-029f22f64369",
   "metadata": {},
   "source": [
    "## 7.1 Prediction"
   ]
  },
  {
   "cell_type": "code",
   "execution_count": null,
   "id": "5b9f866b-c463-428b-b18d-2d8f21c82792",
   "metadata": {},
   "outputs": [],
   "source": [
    "df_xg.groupby([\"make_model\", \"Gearing_Type\"]).mean()"
   ]
  },
  {
   "cell_type": "code",
   "execution_count": null,
   "id": "43670d96-6c26-4125-8fa5-cdee54dbd285",
   "metadata": {},
   "outputs": [],
   "source": [
    "samples = {\"make_model\": [\"Opel Astra\", \"Renault Clio\"],\n",
    "           \"Gearing_Type\": [\"Automatic\", \"Manual\"],\n",
    "           \"Gears\":[6, 5],\n",
    "           'age':[1,1],\n",
    "           'hp_kW': [100, 50]}"
   ]
  },
  {
   "cell_type": "code",
   "execution_count": null,
   "id": "e73e432c-588d-43d2-aa7c-7aee67e56cd6",
   "metadata": {},
   "outputs": [],
   "source": [
    "df_samples = pd.DataFrame(samples)\n",
    "df_samples"
   ]
  },
  {
   "cell_type": "code",
   "execution_count": null,
   "id": "2e1dbda3-1917-47b3-bb3b-a997790a5eb1",
   "metadata": {},
   "outputs": [],
   "source": [
    "final_model.predict(df_samples)"
   ]
  },
  {
   "cell_type": "markdown",
   "id": "48319451-9095-4d67-bfcd-cc83e8679546",
   "metadata": {},
   "source": [
    "## Pickle the final model"
   ]
  },
  {
   "cell_type": "code",
   "execution_count": null,
   "id": "9aa1acd6-1ae4-43a1-bf85-c92868800f4c",
   "metadata": {},
   "outputs": [],
   "source": [
    "import pickle"
   ]
  },
  {
   "cell_type": "code",
   "execution_count": null,
   "id": "91948605-69e6-4c09-ac4c-9abbcbefa995",
   "metadata": {},
   "outputs": [],
   "source": [
    "filename = \"final_model\"\n",
    "pickle.dump(final_model, open(filename, \"wb\"))"
   ]
  },
  {
   "cell_type": "code",
   "execution_count": null,
   "id": "667f39d3-347d-45ae-a397-ad1c4c43e9e4",
   "metadata": {},
   "outputs": [],
   "source": [
    "# read the pickle model\n",
    "final_model_p = pickle.load(open(\"final_model\", \"rb\"))"
   ]
  },
  {
   "cell_type": "code",
   "execution_count": null,
   "id": "a87cea41-095d-4017-ba37-82a9881eeb07",
   "metadata": {},
   "outputs": [],
   "source": [
    "prediction = final_model_p.predict(samples)\n",
    "prediction"
   ]
  },
  {
   "cell_type": "code",
   "execution_count": null,
   "id": "2c77d458-d5b1-4025-b61f-689a99d1491b",
   "metadata": {},
   "outputs": [],
   "source": [
    "df_xg.reset_index(drop=True, inplace=True)"
   ]
  },
  {
   "cell_type": "code",
   "execution_count": null,
   "id": "4e15b735",
   "metadata": {},
   "outputs": [],
   "source": [
    "df_xg.to_csv('last_data.csv', index=False)"
   ]
  },
  {
   "cell_type": "code",
   "execution_count": null,
   "id": "b4363bd6",
   "metadata": {},
   "outputs": [],
   "source": []
  }
 ],
 "metadata": {
  "kernelspec": {
   "display_name": "Python 3 (ipykernel)",
   "language": "python",
   "name": "python3"
  },
  "language_info": {
   "codemirror_mode": {
    "name": "ipython",
    "version": 3
   },
   "file_extension": ".py",
   "mimetype": "text/x-python",
   "name": "python",
   "nbconvert_exporter": "python",
   "pygments_lexer": "ipython3",
   "version": "3.9.12"
  },
  "toc": {
   "base_numbering": 1,
   "nav_menu": {},
   "number_sections": true,
   "sideBar": true,
   "skip_h1_title": false,
   "title_cell": "Table of Contents",
   "title_sidebar": "Contents",
   "toc_cell": false,
   "toc_position": {},
   "toc_section_display": true,
   "toc_window_display": false
  }
 },
 "nbformat": 4,
 "nbformat_minor": 5
}
